{
 "cells": [
  {
   "cell_type": "code",
   "execution_count": 1,
   "metadata": {},
   "outputs": [],
   "source": [
    "# Import the necessary libraries for the project\n",
    "\n",
    "import pandas as pd    # data processing, CSV file I/O (e.g. pd.read_csv)\n",
    "import numpy as np     # linear algebra\n",
    "import matplotlib\n",
    "import matplotlib.pyplot as plt\n",
    "import seaborn as sns\n",
    "import warnings \n",
    "warnings.filterwarnings(\"ignore\")"
   ]
  },
  {
   "cell_type": "code",
   "execution_count": 2,
   "metadata": {},
   "outputs": [],
   "source": [
    "# Read the data which should be placed in the Desktop and the name of the file is 'creditcard.csv'\n",
    "\n",
    "df = pd.read_csv('Desktop/creditcard.csv')"
   ]
  },
  {
   "cell_type": "code",
   "execution_count": 3,
   "metadata": {},
   "outputs": [
    {
     "data": {
      "text/html": [
       "<div>\n",
       "<style scoped>\n",
       "    .dataframe tbody tr th:only-of-type {\n",
       "        vertical-align: middle;\n",
       "    }\n",
       "\n",
       "    .dataframe tbody tr th {\n",
       "        vertical-align: top;\n",
       "    }\n",
       "\n",
       "    .dataframe thead th {\n",
       "        text-align: right;\n",
       "    }\n",
       "</style>\n",
       "<table border=\"1\" class=\"dataframe\">\n",
       "  <thead>\n",
       "    <tr style=\"text-align: right;\">\n",
       "      <th></th>\n",
       "      <th>Time</th>\n",
       "      <th>V1</th>\n",
       "      <th>V2</th>\n",
       "      <th>V3</th>\n",
       "      <th>V4</th>\n",
       "      <th>V5</th>\n",
       "      <th>V6</th>\n",
       "      <th>V7</th>\n",
       "      <th>V8</th>\n",
       "      <th>V9</th>\n",
       "      <th>...</th>\n",
       "      <th>V21</th>\n",
       "      <th>V22</th>\n",
       "      <th>V23</th>\n",
       "      <th>V24</th>\n",
       "      <th>V25</th>\n",
       "      <th>V26</th>\n",
       "      <th>V27</th>\n",
       "      <th>V28</th>\n",
       "      <th>Amount</th>\n",
       "      <th>Class</th>\n",
       "    </tr>\n",
       "  </thead>\n",
       "  <tbody>\n",
       "    <tr>\n",
       "      <th>0</th>\n",
       "      <td>0.0</td>\n",
       "      <td>-1.359807</td>\n",
       "      <td>-0.072781</td>\n",
       "      <td>2.536347</td>\n",
       "      <td>1.378155</td>\n",
       "      <td>-0.338321</td>\n",
       "      <td>0.462388</td>\n",
       "      <td>0.239599</td>\n",
       "      <td>0.098698</td>\n",
       "      <td>0.363787</td>\n",
       "      <td>...</td>\n",
       "      <td>-0.018307</td>\n",
       "      <td>0.277838</td>\n",
       "      <td>-0.110474</td>\n",
       "      <td>0.066928</td>\n",
       "      <td>0.128539</td>\n",
       "      <td>-0.189115</td>\n",
       "      <td>0.133558</td>\n",
       "      <td>-0.021053</td>\n",
       "      <td>149.62</td>\n",
       "      <td>0</td>\n",
       "    </tr>\n",
       "    <tr>\n",
       "      <th>1</th>\n",
       "      <td>0.0</td>\n",
       "      <td>1.191857</td>\n",
       "      <td>0.266151</td>\n",
       "      <td>0.166480</td>\n",
       "      <td>0.448154</td>\n",
       "      <td>0.060018</td>\n",
       "      <td>-0.082361</td>\n",
       "      <td>-0.078803</td>\n",
       "      <td>0.085102</td>\n",
       "      <td>-0.255425</td>\n",
       "      <td>...</td>\n",
       "      <td>-0.225775</td>\n",
       "      <td>-0.638672</td>\n",
       "      <td>0.101288</td>\n",
       "      <td>-0.339846</td>\n",
       "      <td>0.167170</td>\n",
       "      <td>0.125895</td>\n",
       "      <td>-0.008983</td>\n",
       "      <td>0.014724</td>\n",
       "      <td>2.69</td>\n",
       "      <td>0</td>\n",
       "    </tr>\n",
       "    <tr>\n",
       "      <th>2</th>\n",
       "      <td>1.0</td>\n",
       "      <td>-1.358354</td>\n",
       "      <td>-1.340163</td>\n",
       "      <td>1.773209</td>\n",
       "      <td>0.379780</td>\n",
       "      <td>-0.503198</td>\n",
       "      <td>1.800499</td>\n",
       "      <td>0.791461</td>\n",
       "      <td>0.247676</td>\n",
       "      <td>-1.514654</td>\n",
       "      <td>...</td>\n",
       "      <td>0.247998</td>\n",
       "      <td>0.771679</td>\n",
       "      <td>0.909412</td>\n",
       "      <td>-0.689281</td>\n",
       "      <td>-0.327642</td>\n",
       "      <td>-0.139097</td>\n",
       "      <td>-0.055353</td>\n",
       "      <td>-0.059752</td>\n",
       "      <td>378.66</td>\n",
       "      <td>0</td>\n",
       "    </tr>\n",
       "    <tr>\n",
       "      <th>3</th>\n",
       "      <td>1.0</td>\n",
       "      <td>-0.966272</td>\n",
       "      <td>-0.185226</td>\n",
       "      <td>1.792993</td>\n",
       "      <td>-0.863291</td>\n",
       "      <td>-0.010309</td>\n",
       "      <td>1.247203</td>\n",
       "      <td>0.237609</td>\n",
       "      <td>0.377436</td>\n",
       "      <td>-1.387024</td>\n",
       "      <td>...</td>\n",
       "      <td>-0.108300</td>\n",
       "      <td>0.005274</td>\n",
       "      <td>-0.190321</td>\n",
       "      <td>-1.175575</td>\n",
       "      <td>0.647376</td>\n",
       "      <td>-0.221929</td>\n",
       "      <td>0.062723</td>\n",
       "      <td>0.061458</td>\n",
       "      <td>123.50</td>\n",
       "      <td>0</td>\n",
       "    </tr>\n",
       "    <tr>\n",
       "      <th>4</th>\n",
       "      <td>2.0</td>\n",
       "      <td>-1.158233</td>\n",
       "      <td>0.877737</td>\n",
       "      <td>1.548718</td>\n",
       "      <td>0.403034</td>\n",
       "      <td>-0.407193</td>\n",
       "      <td>0.095921</td>\n",
       "      <td>0.592941</td>\n",
       "      <td>-0.270533</td>\n",
       "      <td>0.817739</td>\n",
       "      <td>...</td>\n",
       "      <td>-0.009431</td>\n",
       "      <td>0.798278</td>\n",
       "      <td>-0.137458</td>\n",
       "      <td>0.141267</td>\n",
       "      <td>-0.206010</td>\n",
       "      <td>0.502292</td>\n",
       "      <td>0.219422</td>\n",
       "      <td>0.215153</td>\n",
       "      <td>69.99</td>\n",
       "      <td>0</td>\n",
       "    </tr>\n",
       "  </tbody>\n",
       "</table>\n",
       "<p>5 rows × 31 columns</p>\n",
       "</div>"
      ],
      "text/plain": [
       "   Time        V1        V2        V3        V4        V5        V6        V7  \\\n",
       "0   0.0 -1.359807 -0.072781  2.536347  1.378155 -0.338321  0.462388  0.239599   \n",
       "1   0.0  1.191857  0.266151  0.166480  0.448154  0.060018 -0.082361 -0.078803   \n",
       "2   1.0 -1.358354 -1.340163  1.773209  0.379780 -0.503198  1.800499  0.791461   \n",
       "3   1.0 -0.966272 -0.185226  1.792993 -0.863291 -0.010309  1.247203  0.237609   \n",
       "4   2.0 -1.158233  0.877737  1.548718  0.403034 -0.407193  0.095921  0.592941   \n",
       "\n",
       "         V8        V9  ...       V21       V22       V23       V24       V25  \\\n",
       "0  0.098698  0.363787  ... -0.018307  0.277838 -0.110474  0.066928  0.128539   \n",
       "1  0.085102 -0.255425  ... -0.225775 -0.638672  0.101288 -0.339846  0.167170   \n",
       "2  0.247676 -1.514654  ...  0.247998  0.771679  0.909412 -0.689281 -0.327642   \n",
       "3  0.377436 -1.387024  ... -0.108300  0.005274 -0.190321 -1.175575  0.647376   \n",
       "4 -0.270533  0.817739  ... -0.009431  0.798278 -0.137458  0.141267 -0.206010   \n",
       "\n",
       "        V26       V27       V28  Amount  Class  \n",
       "0 -0.189115  0.133558 -0.021053  149.62      0  \n",
       "1  0.125895 -0.008983  0.014724    2.69      0  \n",
       "2 -0.139097 -0.055353 -0.059752  378.66      0  \n",
       "3 -0.221929  0.062723  0.061458  123.50      0  \n",
       "4  0.502292  0.219422  0.215153   69.99      0  \n",
       "\n",
       "[5 rows x 31 columns]"
      ]
     },
     "execution_count": 3,
     "metadata": {},
     "output_type": "execute_result"
    }
   ],
   "source": [
    "# The first five lines from out dataset\n",
    "\n",
    "df.head()"
   ]
  },
  {
   "cell_type": "code",
   "execution_count": 4,
   "metadata": {},
   "outputs": [
    {
     "data": {
      "text/plain": [
       "(284807, 31)"
      ]
     },
     "execution_count": 4,
     "metadata": {},
     "output_type": "execute_result"
    }
   ],
   "source": [
    "# The original shape of the dataset\n",
    "\n",
    "df.shape"
   ]
  },
  {
   "cell_type": "code",
   "execution_count": 5,
   "metadata": {},
   "outputs": [
    {
     "data": {
      "text/plain": [
       "Index(['Time', 'V1', 'V2', 'V3', 'V4', 'V5', 'V6', 'V7', 'V8', 'V9', 'V10',\n",
       "       'V11', 'V12', 'V13', 'V14', 'V15', 'V16', 'V17', 'V18', 'V19', 'V20',\n",
       "       'V21', 'V22', 'V23', 'V24', 'V25', 'V26', 'V27', 'V28', 'Amount',\n",
       "       'Class'],\n",
       "      dtype='object')"
      ]
     },
     "execution_count": 5,
     "metadata": {},
     "output_type": "execute_result"
    }
   ],
   "source": [
    "# The names of the columns of the dataset\n",
    "\n",
    "df.columns"
   ]
  },
  {
   "cell_type": "code",
   "execution_count": 6,
   "metadata": {},
   "outputs": [
    {
     "data": {
      "text/html": [
       "<div>\n",
       "<style scoped>\n",
       "    .dataframe tbody tr th:only-of-type {\n",
       "        vertical-align: middle;\n",
       "    }\n",
       "\n",
       "    .dataframe tbody tr th {\n",
       "        vertical-align: top;\n",
       "    }\n",
       "\n",
       "    .dataframe thead th {\n",
       "        text-align: right;\n",
       "    }\n",
       "</style>\n",
       "<table border=\"1\" class=\"dataframe\">\n",
       "  <thead>\n",
       "    <tr style=\"text-align: right;\">\n",
       "      <th></th>\n",
       "      <th>Time</th>\n",
       "      <th>V1</th>\n",
       "      <th>V2</th>\n",
       "      <th>V3</th>\n",
       "      <th>V4</th>\n",
       "      <th>V5</th>\n",
       "      <th>V6</th>\n",
       "      <th>V7</th>\n",
       "      <th>V8</th>\n",
       "      <th>V9</th>\n",
       "      <th>...</th>\n",
       "      <th>V21</th>\n",
       "      <th>V22</th>\n",
       "      <th>V23</th>\n",
       "      <th>V24</th>\n",
       "      <th>V25</th>\n",
       "      <th>V26</th>\n",
       "      <th>V27</th>\n",
       "      <th>V28</th>\n",
       "      <th>Amount</th>\n",
       "      <th>Class</th>\n",
       "    </tr>\n",
       "  </thead>\n",
       "  <tbody>\n",
       "    <tr>\n",
       "      <th>count</th>\n",
       "      <td>284807.000000</td>\n",
       "      <td>2.848070e+05</td>\n",
       "      <td>2.848070e+05</td>\n",
       "      <td>2.848070e+05</td>\n",
       "      <td>2.848070e+05</td>\n",
       "      <td>2.848070e+05</td>\n",
       "      <td>2.848070e+05</td>\n",
       "      <td>2.848070e+05</td>\n",
       "      <td>2.848070e+05</td>\n",
       "      <td>2.848070e+05</td>\n",
       "      <td>...</td>\n",
       "      <td>2.848070e+05</td>\n",
       "      <td>2.848070e+05</td>\n",
       "      <td>2.848070e+05</td>\n",
       "      <td>2.848070e+05</td>\n",
       "      <td>2.848070e+05</td>\n",
       "      <td>2.848070e+05</td>\n",
       "      <td>2.848070e+05</td>\n",
       "      <td>2.848070e+05</td>\n",
       "      <td>284807.000000</td>\n",
       "      <td>284807.000000</td>\n",
       "    </tr>\n",
       "    <tr>\n",
       "      <th>mean</th>\n",
       "      <td>94813.859575</td>\n",
       "      <td>3.919560e-15</td>\n",
       "      <td>5.688174e-16</td>\n",
       "      <td>-8.769071e-15</td>\n",
       "      <td>2.782312e-15</td>\n",
       "      <td>-1.552563e-15</td>\n",
       "      <td>2.010663e-15</td>\n",
       "      <td>-1.694249e-15</td>\n",
       "      <td>-1.927028e-16</td>\n",
       "      <td>-3.137024e-15</td>\n",
       "      <td>...</td>\n",
       "      <td>1.537294e-16</td>\n",
       "      <td>7.959909e-16</td>\n",
       "      <td>5.367590e-16</td>\n",
       "      <td>4.458112e-15</td>\n",
       "      <td>1.453003e-15</td>\n",
       "      <td>1.699104e-15</td>\n",
       "      <td>-3.660161e-16</td>\n",
       "      <td>-1.206049e-16</td>\n",
       "      <td>88.349619</td>\n",
       "      <td>0.001727</td>\n",
       "    </tr>\n",
       "    <tr>\n",
       "      <th>std</th>\n",
       "      <td>47488.145955</td>\n",
       "      <td>1.958696e+00</td>\n",
       "      <td>1.651309e+00</td>\n",
       "      <td>1.516255e+00</td>\n",
       "      <td>1.415869e+00</td>\n",
       "      <td>1.380247e+00</td>\n",
       "      <td>1.332271e+00</td>\n",
       "      <td>1.237094e+00</td>\n",
       "      <td>1.194353e+00</td>\n",
       "      <td>1.098632e+00</td>\n",
       "      <td>...</td>\n",
       "      <td>7.345240e-01</td>\n",
       "      <td>7.257016e-01</td>\n",
       "      <td>6.244603e-01</td>\n",
       "      <td>6.056471e-01</td>\n",
       "      <td>5.212781e-01</td>\n",
       "      <td>4.822270e-01</td>\n",
       "      <td>4.036325e-01</td>\n",
       "      <td>3.300833e-01</td>\n",
       "      <td>250.120109</td>\n",
       "      <td>0.041527</td>\n",
       "    </tr>\n",
       "    <tr>\n",
       "      <th>min</th>\n",
       "      <td>0.000000</td>\n",
       "      <td>-5.640751e+01</td>\n",
       "      <td>-7.271573e+01</td>\n",
       "      <td>-4.832559e+01</td>\n",
       "      <td>-5.683171e+00</td>\n",
       "      <td>-1.137433e+02</td>\n",
       "      <td>-2.616051e+01</td>\n",
       "      <td>-4.355724e+01</td>\n",
       "      <td>-7.321672e+01</td>\n",
       "      <td>-1.343407e+01</td>\n",
       "      <td>...</td>\n",
       "      <td>-3.483038e+01</td>\n",
       "      <td>-1.093314e+01</td>\n",
       "      <td>-4.480774e+01</td>\n",
       "      <td>-2.836627e+00</td>\n",
       "      <td>-1.029540e+01</td>\n",
       "      <td>-2.604551e+00</td>\n",
       "      <td>-2.256568e+01</td>\n",
       "      <td>-1.543008e+01</td>\n",
       "      <td>0.000000</td>\n",
       "      <td>0.000000</td>\n",
       "    </tr>\n",
       "    <tr>\n",
       "      <th>25%</th>\n",
       "      <td>54201.500000</td>\n",
       "      <td>-9.203734e-01</td>\n",
       "      <td>-5.985499e-01</td>\n",
       "      <td>-8.903648e-01</td>\n",
       "      <td>-8.486401e-01</td>\n",
       "      <td>-6.915971e-01</td>\n",
       "      <td>-7.682956e-01</td>\n",
       "      <td>-5.540759e-01</td>\n",
       "      <td>-2.086297e-01</td>\n",
       "      <td>-6.430976e-01</td>\n",
       "      <td>...</td>\n",
       "      <td>-2.283949e-01</td>\n",
       "      <td>-5.423504e-01</td>\n",
       "      <td>-1.618463e-01</td>\n",
       "      <td>-3.545861e-01</td>\n",
       "      <td>-3.171451e-01</td>\n",
       "      <td>-3.269839e-01</td>\n",
       "      <td>-7.083953e-02</td>\n",
       "      <td>-5.295979e-02</td>\n",
       "      <td>5.600000</td>\n",
       "      <td>0.000000</td>\n",
       "    </tr>\n",
       "    <tr>\n",
       "      <th>50%</th>\n",
       "      <td>84692.000000</td>\n",
       "      <td>1.810880e-02</td>\n",
       "      <td>6.548556e-02</td>\n",
       "      <td>1.798463e-01</td>\n",
       "      <td>-1.984653e-02</td>\n",
       "      <td>-5.433583e-02</td>\n",
       "      <td>-2.741871e-01</td>\n",
       "      <td>4.010308e-02</td>\n",
       "      <td>2.235804e-02</td>\n",
       "      <td>-5.142873e-02</td>\n",
       "      <td>...</td>\n",
       "      <td>-2.945017e-02</td>\n",
       "      <td>6.781943e-03</td>\n",
       "      <td>-1.119293e-02</td>\n",
       "      <td>4.097606e-02</td>\n",
       "      <td>1.659350e-02</td>\n",
       "      <td>-5.213911e-02</td>\n",
       "      <td>1.342146e-03</td>\n",
       "      <td>1.124383e-02</td>\n",
       "      <td>22.000000</td>\n",
       "      <td>0.000000</td>\n",
       "    </tr>\n",
       "    <tr>\n",
       "      <th>75%</th>\n",
       "      <td>139320.500000</td>\n",
       "      <td>1.315642e+00</td>\n",
       "      <td>8.037239e-01</td>\n",
       "      <td>1.027196e+00</td>\n",
       "      <td>7.433413e-01</td>\n",
       "      <td>6.119264e-01</td>\n",
       "      <td>3.985649e-01</td>\n",
       "      <td>5.704361e-01</td>\n",
       "      <td>3.273459e-01</td>\n",
       "      <td>5.971390e-01</td>\n",
       "      <td>...</td>\n",
       "      <td>1.863772e-01</td>\n",
       "      <td>5.285536e-01</td>\n",
       "      <td>1.476421e-01</td>\n",
       "      <td>4.395266e-01</td>\n",
       "      <td>3.507156e-01</td>\n",
       "      <td>2.409522e-01</td>\n",
       "      <td>9.104512e-02</td>\n",
       "      <td>7.827995e-02</td>\n",
       "      <td>77.165000</td>\n",
       "      <td>0.000000</td>\n",
       "    </tr>\n",
       "    <tr>\n",
       "      <th>max</th>\n",
       "      <td>172792.000000</td>\n",
       "      <td>2.454930e+00</td>\n",
       "      <td>2.205773e+01</td>\n",
       "      <td>9.382558e+00</td>\n",
       "      <td>1.687534e+01</td>\n",
       "      <td>3.480167e+01</td>\n",
       "      <td>7.330163e+01</td>\n",
       "      <td>1.205895e+02</td>\n",
       "      <td>2.000721e+01</td>\n",
       "      <td>1.559499e+01</td>\n",
       "      <td>...</td>\n",
       "      <td>2.720284e+01</td>\n",
       "      <td>1.050309e+01</td>\n",
       "      <td>2.252841e+01</td>\n",
       "      <td>4.584549e+00</td>\n",
       "      <td>7.519589e+00</td>\n",
       "      <td>3.517346e+00</td>\n",
       "      <td>3.161220e+01</td>\n",
       "      <td>3.384781e+01</td>\n",
       "      <td>25691.160000</td>\n",
       "      <td>1.000000</td>\n",
       "    </tr>\n",
       "  </tbody>\n",
       "</table>\n",
       "<p>8 rows × 31 columns</p>\n",
       "</div>"
      ],
      "text/plain": [
       "                Time            V1            V2            V3            V4  \\\n",
       "count  284807.000000  2.848070e+05  2.848070e+05  2.848070e+05  2.848070e+05   \n",
       "mean    94813.859575  3.919560e-15  5.688174e-16 -8.769071e-15  2.782312e-15   \n",
       "std     47488.145955  1.958696e+00  1.651309e+00  1.516255e+00  1.415869e+00   \n",
       "min         0.000000 -5.640751e+01 -7.271573e+01 -4.832559e+01 -5.683171e+00   \n",
       "25%     54201.500000 -9.203734e-01 -5.985499e-01 -8.903648e-01 -8.486401e-01   \n",
       "50%     84692.000000  1.810880e-02  6.548556e-02  1.798463e-01 -1.984653e-02   \n",
       "75%    139320.500000  1.315642e+00  8.037239e-01  1.027196e+00  7.433413e-01   \n",
       "max    172792.000000  2.454930e+00  2.205773e+01  9.382558e+00  1.687534e+01   \n",
       "\n",
       "                 V5            V6            V7            V8            V9  \\\n",
       "count  2.848070e+05  2.848070e+05  2.848070e+05  2.848070e+05  2.848070e+05   \n",
       "mean  -1.552563e-15  2.010663e-15 -1.694249e-15 -1.927028e-16 -3.137024e-15   \n",
       "std    1.380247e+00  1.332271e+00  1.237094e+00  1.194353e+00  1.098632e+00   \n",
       "min   -1.137433e+02 -2.616051e+01 -4.355724e+01 -7.321672e+01 -1.343407e+01   \n",
       "25%   -6.915971e-01 -7.682956e-01 -5.540759e-01 -2.086297e-01 -6.430976e-01   \n",
       "50%   -5.433583e-02 -2.741871e-01  4.010308e-02  2.235804e-02 -5.142873e-02   \n",
       "75%    6.119264e-01  3.985649e-01  5.704361e-01  3.273459e-01  5.971390e-01   \n",
       "max    3.480167e+01  7.330163e+01  1.205895e+02  2.000721e+01  1.559499e+01   \n",
       "\n",
       "       ...           V21           V22           V23           V24  \\\n",
       "count  ...  2.848070e+05  2.848070e+05  2.848070e+05  2.848070e+05   \n",
       "mean   ...  1.537294e-16  7.959909e-16  5.367590e-16  4.458112e-15   \n",
       "std    ...  7.345240e-01  7.257016e-01  6.244603e-01  6.056471e-01   \n",
       "min    ... -3.483038e+01 -1.093314e+01 -4.480774e+01 -2.836627e+00   \n",
       "25%    ... -2.283949e-01 -5.423504e-01 -1.618463e-01 -3.545861e-01   \n",
       "50%    ... -2.945017e-02  6.781943e-03 -1.119293e-02  4.097606e-02   \n",
       "75%    ...  1.863772e-01  5.285536e-01  1.476421e-01  4.395266e-01   \n",
       "max    ...  2.720284e+01  1.050309e+01  2.252841e+01  4.584549e+00   \n",
       "\n",
       "                V25           V26           V27           V28         Amount  \\\n",
       "count  2.848070e+05  2.848070e+05  2.848070e+05  2.848070e+05  284807.000000   \n",
       "mean   1.453003e-15  1.699104e-15 -3.660161e-16 -1.206049e-16      88.349619   \n",
       "std    5.212781e-01  4.822270e-01  4.036325e-01  3.300833e-01     250.120109   \n",
       "min   -1.029540e+01 -2.604551e+00 -2.256568e+01 -1.543008e+01       0.000000   \n",
       "25%   -3.171451e-01 -3.269839e-01 -7.083953e-02 -5.295979e-02       5.600000   \n",
       "50%    1.659350e-02 -5.213911e-02  1.342146e-03  1.124383e-02      22.000000   \n",
       "75%    3.507156e-01  2.409522e-01  9.104512e-02  7.827995e-02      77.165000   \n",
       "max    7.519589e+00  3.517346e+00  3.161220e+01  3.384781e+01   25691.160000   \n",
       "\n",
       "               Class  \n",
       "count  284807.000000  \n",
       "mean        0.001727  \n",
       "std         0.041527  \n",
       "min         0.000000  \n",
       "25%         0.000000  \n",
       "50%         0.000000  \n",
       "75%         0.000000  \n",
       "max         1.000000  \n",
       "\n",
       "[8 rows x 31 columns]"
      ]
     },
     "execution_count": 6,
     "metadata": {},
     "output_type": "execute_result"
    }
   ],
   "source": [
    "# The mathematicial description of our dataset\n",
    "\n",
    "df.describe()"
   ]
  },
  {
   "cell_type": "code",
   "execution_count": 7,
   "metadata": {},
   "outputs": [
    {
     "name": "stdout",
     "output_type": "stream",
     "text": [
      "<class 'pandas.core.frame.DataFrame'>\n",
      "RangeIndex: 284807 entries, 0 to 284806\n",
      "Data columns (total 31 columns):\n",
      " #   Column  Non-Null Count   Dtype  \n",
      "---  ------  --------------   -----  \n",
      " 0   Time    284807 non-null  float64\n",
      " 1   V1      284807 non-null  float64\n",
      " 2   V2      284807 non-null  float64\n",
      " 3   V3      284807 non-null  float64\n",
      " 4   V4      284807 non-null  float64\n",
      " 5   V5      284807 non-null  float64\n",
      " 6   V6      284807 non-null  float64\n",
      " 7   V7      284807 non-null  float64\n",
      " 8   V8      284807 non-null  float64\n",
      " 9   V9      284807 non-null  float64\n",
      " 10  V10     284807 non-null  float64\n",
      " 11  V11     284807 non-null  float64\n",
      " 12  V12     284807 non-null  float64\n",
      " 13  V13     284807 non-null  float64\n",
      " 14  V14     284807 non-null  float64\n",
      " 15  V15     284807 non-null  float64\n",
      " 16  V16     284807 non-null  float64\n",
      " 17  V17     284807 non-null  float64\n",
      " 18  V18     284807 non-null  float64\n",
      " 19  V19     284807 non-null  float64\n",
      " 20  V20     284807 non-null  float64\n",
      " 21  V21     284807 non-null  float64\n",
      " 22  V22     284807 non-null  float64\n",
      " 23  V23     284807 non-null  float64\n",
      " 24  V24     284807 non-null  float64\n",
      " 25  V25     284807 non-null  float64\n",
      " 26  V26     284807 non-null  float64\n",
      " 27  V27     284807 non-null  float64\n",
      " 28  V28     284807 non-null  float64\n",
      " 29  Amount  284807 non-null  float64\n",
      " 30  Class   284807 non-null  int64  \n",
      "dtypes: float64(30), int64(1)\n",
      "memory usage: 67.4 MB\n"
     ]
    }
   ],
   "source": [
    "# More information about our data for example tha type of it's column\n",
    "\n",
    "df.info()"
   ]
  },
  {
   "cell_type": "code",
   "execution_count": 8,
   "metadata": {},
   "outputs": [
    {
     "data": {
      "text/plain": [
       "Time      0\n",
       "V1        0\n",
       "V2        0\n",
       "V3        0\n",
       "V4        0\n",
       "V5        0\n",
       "V6        0\n",
       "V7        0\n",
       "V8        0\n",
       "V9        0\n",
       "V10       0\n",
       "V11       0\n",
       "V12       0\n",
       "V13       0\n",
       "V14       0\n",
       "V15       0\n",
       "V16       0\n",
       "V17       0\n",
       "V18       0\n",
       "V19       0\n",
       "V20       0\n",
       "V21       0\n",
       "V22       0\n",
       "V23       0\n",
       "V24       0\n",
       "V25       0\n",
       "V26       0\n",
       "V27       0\n",
       "V28       0\n",
       "Amount    0\n",
       "Class     0\n",
       "dtype: int64"
      ]
     },
     "execution_count": 8,
     "metadata": {},
     "output_type": "execute_result"
    }
   ],
   "source": [
    "# Checking if there are any missing data in our dataset, luckily there is none\n",
    "\n",
    "df.isnull().sum()"
   ]
  },
  {
   "cell_type": "code",
   "execution_count": 9,
   "metadata": {},
   "outputs": [
    {
     "name": "stdout",
     "output_type": "stream",
     "text": [
      "OutlierFraction is : 0.1727485630620034\n",
      "Valid Transactions: 284315\n",
      "Fraud Transactions: 492\n"
     ]
    }
   ],
   "source": [
    "# Determine number of fraud cases in dataset\n",
    "# Valid transaction if Class = 0 and Fraud if Class = 1\n",
    "\n",
    "\n",
    "valid = len(df[df['Class'] == 0])\n",
    "fraud= len(df[df['Class'] == 1])\n",
    "\n",
    "Outlier_Fraction = (fraud/(valid+fraud)) * 100\n",
    "\n",
    "print('OutlierFraction is :' , Outlier_Fraction) \n",
    "print('Valid Transactions:'  , valid ) \n",
    "print('Fraud Transactions:'  , fraud )"
   ]
  },
  {
   "cell_type": "code",
   "execution_count": 10,
   "metadata": {},
   "outputs": [
    {
     "name": "stdout",
     "output_type": "stream",
     "text": [
      "Amount details of valid transaction\n"
     ]
    },
    {
     "data": {
      "text/plain": [
       "count    284315.000000\n",
       "mean         88.291022\n",
       "std         250.105092\n",
       "min           0.000000\n",
       "25%           5.650000\n",
       "50%          22.000000\n",
       "75%          77.050000\n",
       "max       25691.160000\n",
       "Name: Amount, dtype: float64"
      ]
     },
     "execution_count": 10,
     "metadata": {},
     "output_type": "execute_result"
    }
   ],
   "source": [
    "# Information about the valid transactions only\n",
    "\n",
    "print('Amount details of valid transaction')\n",
    "\n",
    "valid_info= df[(df['Class']==0)]\n",
    "valid_info.Amount.describe()"
   ]
  },
  {
   "cell_type": "code",
   "execution_count": 11,
   "metadata": {},
   "outputs": [
    {
     "name": "stdout",
     "output_type": "stream",
     "text": [
      "Amount details of fraud transaction\n"
     ]
    },
    {
     "data": {
      "text/plain": [
       "count     492.000000\n",
       "mean      122.211321\n",
       "std       256.683288\n",
       "min         0.000000\n",
       "25%         1.000000\n",
       "50%         9.250000\n",
       "75%       105.890000\n",
       "max      2125.870000\n",
       "Name: Amount, dtype: float64"
      ]
     },
     "execution_count": 11,
     "metadata": {},
     "output_type": "execute_result"
    }
   ],
   "source": [
    "# Information about the fraud transactions only\n",
    "\n",
    "print('Amount details of fraud transaction')\n",
    "\n",
    "fraud_info = df[df['Class'] ==1]\n",
    "fraud_info.Amount.describe()"
   ]
  },
  {
   "cell_type": "markdown",
   "metadata": {},
   "source": [
    "Note: Notice how imbalanced is our original dataset. \n",
    "Most of the transactions are non-fraud. If we use this dataframe as the base for our predictive models and analysis we might get a lot of errors and our algorithms will probably overfit since it will \"assume\" that most transactions are not fraud. \n",
    "But we don't want our model to assume, we want our model to detect patterns that give signs of fraud!\n",
    "\n"
   ]
  },
  {
   "cell_type": "code",
   "execution_count": 12,
   "metadata": {},
   "outputs": [
    {
     "data": {
      "text/plain": [
       "Text(0, 0.5, 'Frequency')"
      ]
     },
     "execution_count": 12,
     "metadata": {},
     "output_type": "execute_result"
    },
    {
     "data": {
      "image/png": "[encoded data removed]",
      "text/plain": [
       "<Figure size 432x288 with 1 Axes>"
      ]
     },
     "metadata": {
      "needs_background": "light"
     },
     "output_type": "display_data"
    }
   ],
   "source": [
    "# Checking for the fraud and valid trasactions in a graph for better understanding\n",
    "\n",
    "count_classes = pd.value_counts(df['Class'], sort = True ).sort_index()\n",
    "count_classes.plot(kind = 'bar' ,rot = 0 ,colormap ='plasma')\n",
    "\n",
    "plt.title ( \"Fraud Class Histogram\" )\n",
    "plt.xlabel( \"Class\" )\n",
    "plt.ylabel( \"Frequency\" )"
   ]
  },
  {
   "cell_type": "code",
   "execution_count": 13,
   "metadata": {},
   "outputs": [
    {
     "data": {
      "image/png": "[encoded data removed]",
      "text/plain": [
       "<Figure size 1440x936 with 2 Axes>"
      ]
     },
     "metadata": {
      "needs_background": "light"
     },
     "output_type": "display_data"
    }
   ],
   "source": [
    "# Correlation matrix of the original dataset, we will not use this in order to find our outliers\n",
    "# We use it only for a quick view and understanding the original dataset\n",
    "\n",
    "corrmat = df.corr() \n",
    "fig = plt.figure(figsize = (20, 13)) \n",
    "sns.heatmap(corrmat, cmap='viridis', vmax = 1, vmin=-0.5 , square = True , linewidths= 0.05)\n",
    "plt.show() "
   ]
  },
  {
   "cell_type": "code",
   "execution_count": 14,
   "metadata": {},
   "outputs": [
    {
     "data": {
      "image/png": "[encoded data removed]",
      "text/plain": [
       "<Figure size 432x288 with 1 Axes>"
      ]
     },
     "metadata": {
      "needs_background": "light"
     },
     "output_type": "display_data"
    }
   ],
   "source": [
    "# Distribution of our dataset in Time\n",
    "\n",
    "sns.kdeplot(df['Time'])\n",
    "plt.show()"
   ]
  },
  {
   "cell_type": "code",
   "execution_count": 15,
   "metadata": {},
   "outputs": [
    {
     "data": {
      "image/png": "[encoded data removed]",
      "text/plain": [
       "<Figure size 432x288 with 1 Axes>"
      ]
     },
     "metadata": {
      "needs_background": "light"
     },
     "output_type": "display_data"
    }
   ],
   "source": [
    "# Distribution of our dataset in Amount of transaction\n",
    "\n",
    "sns.kdeplot(df['Amount'])\n",
    "plt.show()"
   ]
  },
  {
   "cell_type": "markdown",
   "metadata": {},
   "source": [
    "Our Vi columns are already scaled that's why we only scaled the columns 'Amount' and 'Time'.\n",
    "After this we must remove the old columns and replace them with the new, making a new dataset with the right values."
   ]
  },
  {
   "cell_type": "code",
   "execution_count": 16,
   "metadata": {},
   "outputs": [
    {
     "data": {
      "text/html": [
       "<div>\n",
       "<style scoped>\n",
       "    .dataframe tbody tr th:only-of-type {\n",
       "        vertical-align: middle;\n",
       "    }\n",
       "\n",
       "    .dataframe tbody tr th {\n",
       "        vertical-align: top;\n",
       "    }\n",
       "\n",
       "    .dataframe thead th {\n",
       "        text-align: right;\n",
       "    }\n",
       "</style>\n",
       "<table border=\"1\" class=\"dataframe\">\n",
       "  <thead>\n",
       "    <tr style=\"text-align: right;\">\n",
       "      <th></th>\n",
       "      <th>scaled_amount</th>\n",
       "      <th>scaled_time</th>\n",
       "      <th>V1</th>\n",
       "      <th>V2</th>\n",
       "      <th>V3</th>\n",
       "      <th>V4</th>\n",
       "      <th>V5</th>\n",
       "      <th>V6</th>\n",
       "      <th>V7</th>\n",
       "      <th>V8</th>\n",
       "      <th>...</th>\n",
       "      <th>V20</th>\n",
       "      <th>V21</th>\n",
       "      <th>V22</th>\n",
       "      <th>V23</th>\n",
       "      <th>V24</th>\n",
       "      <th>V25</th>\n",
       "      <th>V26</th>\n",
       "      <th>V27</th>\n",
       "      <th>V28</th>\n",
       "      <th>Class</th>\n",
       "    </tr>\n",
       "  </thead>\n",
       "  <tbody>\n",
       "    <tr>\n",
       "      <th>0</th>\n",
       "      <td>0.244964</td>\n",
       "      <td>-1.996583</td>\n",
       "      <td>-1.359807</td>\n",
       "      <td>-0.072781</td>\n",
       "      <td>2.536347</td>\n",
       "      <td>1.378155</td>\n",
       "      <td>-0.338321</td>\n",
       "      <td>0.462388</td>\n",
       "      <td>0.239599</td>\n",
       "      <td>0.098698</td>\n",
       "      <td>...</td>\n",
       "      <td>0.251412</td>\n",
       "      <td>-0.018307</td>\n",
       "      <td>0.277838</td>\n",
       "      <td>-0.110474</td>\n",
       "      <td>0.066928</td>\n",
       "      <td>0.128539</td>\n",
       "      <td>-0.189115</td>\n",
       "      <td>0.133558</td>\n",
       "      <td>-0.021053</td>\n",
       "      <td>0</td>\n",
       "    </tr>\n",
       "    <tr>\n",
       "      <th>1</th>\n",
       "      <td>-0.342475</td>\n",
       "      <td>-1.996583</td>\n",
       "      <td>1.191857</td>\n",
       "      <td>0.266151</td>\n",
       "      <td>0.166480</td>\n",
       "      <td>0.448154</td>\n",
       "      <td>0.060018</td>\n",
       "      <td>-0.082361</td>\n",
       "      <td>-0.078803</td>\n",
       "      <td>0.085102</td>\n",
       "      <td>...</td>\n",
       "      <td>-0.069083</td>\n",
       "      <td>-0.225775</td>\n",
       "      <td>-0.638672</td>\n",
       "      <td>0.101288</td>\n",
       "      <td>-0.339846</td>\n",
       "      <td>0.167170</td>\n",
       "      <td>0.125895</td>\n",
       "      <td>-0.008983</td>\n",
       "      <td>0.014724</td>\n",
       "      <td>0</td>\n",
       "    </tr>\n",
       "    <tr>\n",
       "      <th>2</th>\n",
       "      <td>1.160686</td>\n",
       "      <td>-1.996562</td>\n",
       "      <td>-1.358354</td>\n",
       "      <td>-1.340163</td>\n",
       "      <td>1.773209</td>\n",
       "      <td>0.379780</td>\n",
       "      <td>-0.503198</td>\n",
       "      <td>1.800499</td>\n",
       "      <td>0.791461</td>\n",
       "      <td>0.247676</td>\n",
       "      <td>...</td>\n",
       "      <td>0.524980</td>\n",
       "      <td>0.247998</td>\n",
       "      <td>0.771679</td>\n",
       "      <td>0.909412</td>\n",
       "      <td>-0.689281</td>\n",
       "      <td>-0.327642</td>\n",
       "      <td>-0.139097</td>\n",
       "      <td>-0.055353</td>\n",
       "      <td>-0.059752</td>\n",
       "      <td>0</td>\n",
       "    </tr>\n",
       "    <tr>\n",
       "      <th>3</th>\n",
       "      <td>0.140534</td>\n",
       "      <td>-1.996562</td>\n",
       "      <td>-0.966272</td>\n",
       "      <td>-0.185226</td>\n",
       "      <td>1.792993</td>\n",
       "      <td>-0.863291</td>\n",
       "      <td>-0.010309</td>\n",
       "      <td>1.247203</td>\n",
       "      <td>0.237609</td>\n",
       "      <td>0.377436</td>\n",
       "      <td>...</td>\n",
       "      <td>-0.208038</td>\n",
       "      <td>-0.108300</td>\n",
       "      <td>0.005274</td>\n",
       "      <td>-0.190321</td>\n",
       "      <td>-1.175575</td>\n",
       "      <td>0.647376</td>\n",
       "      <td>-0.221929</td>\n",
       "      <td>0.062723</td>\n",
       "      <td>0.061458</td>\n",
       "      <td>0</td>\n",
       "    </tr>\n",
       "    <tr>\n",
       "      <th>4</th>\n",
       "      <td>-0.073403</td>\n",
       "      <td>-1.996541</td>\n",
       "      <td>-1.158233</td>\n",
       "      <td>0.877737</td>\n",
       "      <td>1.548718</td>\n",
       "      <td>0.403034</td>\n",
       "      <td>-0.407193</td>\n",
       "      <td>0.095921</td>\n",
       "      <td>0.592941</td>\n",
       "      <td>-0.270533</td>\n",
       "      <td>...</td>\n",
       "      <td>0.408542</td>\n",
       "      <td>-0.009431</td>\n",
       "      <td>0.798278</td>\n",
       "      <td>-0.137458</td>\n",
       "      <td>0.141267</td>\n",
       "      <td>-0.206010</td>\n",
       "      <td>0.502292</td>\n",
       "      <td>0.219422</td>\n",
       "      <td>0.215153</td>\n",
       "      <td>0</td>\n",
       "    </tr>\n",
       "  </tbody>\n",
       "</table>\n",
       "<p>5 rows × 31 columns</p>\n",
       "</div>"
      ],
      "text/plain": [
       "   scaled_amount  scaled_time        V1        V2        V3        V4  \\\n",
       "0       0.244964    -1.996583 -1.359807 -0.072781  2.536347  1.378155   \n",
       "1      -0.342475    -1.996583  1.191857  0.266151  0.166480  0.448154   \n",
       "2       1.160686    -1.996562 -1.358354 -1.340163  1.773209  0.379780   \n",
       "3       0.140534    -1.996562 -0.966272 -0.185226  1.792993 -0.863291   \n",
       "4      -0.073403    -1.996541 -1.158233  0.877737  1.548718  0.403034   \n",
       "\n",
       "         V5        V6        V7        V8  ...       V20       V21       V22  \\\n",
       "0 -0.338321  0.462388  0.239599  0.098698  ...  0.251412 -0.018307  0.277838   \n",
       "1  0.060018 -0.082361 -0.078803  0.085102  ... -0.069083 -0.225775 -0.638672   \n",
       "2 -0.503198  1.800499  0.791461  0.247676  ...  0.524980  0.247998  0.771679   \n",
       "3 -0.010309  1.247203  0.237609  0.377436  ... -0.208038 -0.108300  0.005274   \n",
       "4 -0.407193  0.095921  0.592941 -0.270533  ...  0.408542 -0.009431  0.798278   \n",
       "\n",
       "        V23       V24       V25       V26       V27       V28  Class  \n",
       "0 -0.110474  0.066928  0.128539 -0.189115  0.133558 -0.021053      0  \n",
       "1  0.101288 -0.339846  0.167170  0.125895 -0.008983  0.014724      0  \n",
       "2  0.909412 -0.689281 -0.327642 -0.139097 -0.055353 -0.059752      0  \n",
       "3 -0.190321 -1.175575  0.647376 -0.221929  0.062723  0.061458      0  \n",
       "4 -0.137458  0.141267 -0.206010  0.502292  0.219422  0.215153      0  \n",
       "\n",
       "[5 rows x 31 columns]"
      ]
     },
     "execution_count": 16,
     "metadata": {},
     "output_type": "execute_result"
    }
   ],
   "source": [
    "from sklearn.preprocessing import StandardScaler\n",
    "\n",
    "stc = StandardScaler()\n",
    "\n",
    "df['scaled_amount'] = stc.fit_transform(df['Amount'].values.reshape(-1,1))\n",
    "df['scaled_time'] = stc.fit_transform(df['Time'].values.reshape(-1,1))\n",
    "\n",
    "df.drop(['Amount' , 'Time'] , axis = 1 , inplace = True )\n",
    "\n",
    "scaled_amount = df['scaled_amount']\n",
    "scaled_time = df['scaled_time']\n",
    "\n",
    "df.drop(['scaled_amount' , 'scaled_time'] , axis = 1 , inplace = True )\n",
    "\n",
    "df.insert(0 , 'scaled_amount' , scaled_amount)\n",
    "df.insert(1 , 'scaled_time' , scaled_time)\n",
    "\n",
    "df.head()"
   ]
  },
  {
   "cell_type": "markdown",
   "metadata": {},
   "source": [
    "Now, we will produce a sub-sample from the previous dataset which will contain randomly 492 valid transactions \n",
    "and 492 fraud transactions.\n",
    "We must do this because in the beginning of this notebook we saw that the original dataframe was heavily imbalanced.\n",
    "By doing this we help our algorithms better understand patterns that determines whether a transaction is a fraud or not \n",
    "which is our target.\n"
   ]
  },
  {
   "cell_type": "code",
   "execution_count": 17,
   "metadata": {},
   "outputs": [
    {
     "data": {
      "text/html": [
       "<div>\n",
       "<style scoped>\n",
       "    .dataframe tbody tr th:only-of-type {\n",
       "        vertical-align: middle;\n",
       "    }\n",
       "\n",
       "    .dataframe tbody tr th {\n",
       "        vertical-align: top;\n",
       "    }\n",
       "\n",
       "    .dataframe thead th {\n",
       "        text-align: right;\n",
       "    }\n",
       "</style>\n",
       "<table border=\"1\" class=\"dataframe\">\n",
       "  <thead>\n",
       "    <tr style=\"text-align: right;\">\n",
       "      <th></th>\n",
       "      <th>scaled_amount</th>\n",
       "      <th>scaled_time</th>\n",
       "      <th>V1</th>\n",
       "      <th>V2</th>\n",
       "      <th>V3</th>\n",
       "      <th>V4</th>\n",
       "      <th>V5</th>\n",
       "      <th>V6</th>\n",
       "      <th>V7</th>\n",
       "      <th>V8</th>\n",
       "      <th>...</th>\n",
       "      <th>V20</th>\n",
       "      <th>V21</th>\n",
       "      <th>V22</th>\n",
       "      <th>V23</th>\n",
       "      <th>V24</th>\n",
       "      <th>V25</th>\n",
       "      <th>V26</th>\n",
       "      <th>V27</th>\n",
       "      <th>V28</th>\n",
       "      <th>Class</th>\n",
       "    </tr>\n",
       "  </thead>\n",
       "  <tbody>\n",
       "    <tr>\n",
       "      <th>187129</th>\n",
       "      <td>0.162524</td>\n",
       "      <td>0.686154</td>\n",
       "      <td>-0.213883</td>\n",
       "      <td>0.127418</td>\n",
       "      <td>0.260384</td>\n",
       "      <td>-1.836714</td>\n",
       "      <td>-0.552984</td>\n",
       "      <td>-0.096693</td>\n",
       "      <td>0.369812</td>\n",
       "      <td>0.013613</td>\n",
       "      <td>...</td>\n",
       "      <td>0.249433</td>\n",
       "      <td>-0.053025</td>\n",
       "      <td>-0.101098</td>\n",
       "      <td>0.132048</td>\n",
       "      <td>-0.617426</td>\n",
       "      <td>-0.562521</td>\n",
       "      <td>-0.529929</td>\n",
       "      <td>0.264130</td>\n",
       "      <td>0.117835</td>\n",
       "      <td>0</td>\n",
       "    </tr>\n",
       "    <tr>\n",
       "      <th>15751</th>\n",
       "      <td>0.046539</td>\n",
       "      <td>-1.424081</td>\n",
       "      <td>-24.590245</td>\n",
       "      <td>14.044567</td>\n",
       "      <td>-26.278701</td>\n",
       "      <td>6.320089</td>\n",
       "      <td>-18.224513</td>\n",
       "      <td>-4.609968</td>\n",
       "      <td>-17.681003</td>\n",
       "      <td>16.213627</td>\n",
       "      <td>...</td>\n",
       "      <td>1.649202</td>\n",
       "      <td>1.777063</td>\n",
       "      <td>-1.804874</td>\n",
       "      <td>-1.140605</td>\n",
       "      <td>0.152234</td>\n",
       "      <td>1.715997</td>\n",
       "      <td>-0.220471</td>\n",
       "      <td>1.434951</td>\n",
       "      <td>0.422492</td>\n",
       "      <td>1</td>\n",
       "    </tr>\n",
       "    <tr>\n",
       "      <th>85359</th>\n",
       "      <td>-0.349511</td>\n",
       "      <td>-0.717483</td>\n",
       "      <td>-1.883828</td>\n",
       "      <td>1.342541</td>\n",
       "      <td>-2.579767</td>\n",
       "      <td>1.370111</td>\n",
       "      <td>-1.131725</td>\n",
       "      <td>-1.114064</td>\n",
       "      <td>-1.242638</td>\n",
       "      <td>1.842392</td>\n",
       "      <td>...</td>\n",
       "      <td>-0.699296</td>\n",
       "      <td>0.429782</td>\n",
       "      <td>0.290839</td>\n",
       "      <td>0.007618</td>\n",
       "      <td>0.008380</td>\n",
       "      <td>-0.539355</td>\n",
       "      <td>-0.478687</td>\n",
       "      <td>-1.188405</td>\n",
       "      <td>-0.576327</td>\n",
       "      <td>0</td>\n",
       "    </tr>\n",
       "    <tr>\n",
       "      <th>39183</th>\n",
       "      <td>2.752604</td>\n",
       "      <td>-1.159973</td>\n",
       "      <td>-0.964567</td>\n",
       "      <td>-1.643541</td>\n",
       "      <td>-0.187727</td>\n",
       "      <td>1.158253</td>\n",
       "      <td>-2.458336</td>\n",
       "      <td>0.852222</td>\n",
       "      <td>2.785163</td>\n",
       "      <td>-0.303609</td>\n",
       "      <td>...</td>\n",
       "      <td>1.784449</td>\n",
       "      <td>0.447180</td>\n",
       "      <td>0.536204</td>\n",
       "      <td>1.634061</td>\n",
       "      <td>0.203839</td>\n",
       "      <td>0.218749</td>\n",
       "      <td>-0.221886</td>\n",
       "      <td>-0.308555</td>\n",
       "      <td>-0.164500</td>\n",
       "      <td>1</td>\n",
       "    </tr>\n",
       "    <tr>\n",
       "      <th>243749</th>\n",
       "      <td>-0.349231</td>\n",
       "      <td>1.205443</td>\n",
       "      <td>-3.576362</td>\n",
       "      <td>3.299436</td>\n",
       "      <td>-7.460433</td>\n",
       "      <td>7.783634</td>\n",
       "      <td>-0.398549</td>\n",
       "      <td>-1.968441</td>\n",
       "      <td>-3.110476</td>\n",
       "      <td>-0.328404</td>\n",
       "      <td>...</td>\n",
       "      <td>-0.181455</td>\n",
       "      <td>0.540731</td>\n",
       "      <td>0.719526</td>\n",
       "      <td>0.379249</td>\n",
       "      <td>-0.616962</td>\n",
       "      <td>-0.442811</td>\n",
       "      <td>0.359841</td>\n",
       "      <td>-2.651825</td>\n",
       "      <td>0.422184</td>\n",
       "      <td>1</td>\n",
       "    </tr>\n",
       "  </tbody>\n",
       "</table>\n",
       "<p>5 rows × 31 columns</p>\n",
       "</div>"
      ],
      "text/plain": [
       "        scaled_amount  scaled_time         V1         V2         V3        V4  \\\n",
       "187129       0.162524     0.686154  -0.213883   0.127418   0.260384 -1.836714   \n",
       "15751        0.046539    -1.424081 -24.590245  14.044567 -26.278701  6.320089   \n",
       "85359       -0.349511    -0.717483  -1.883828   1.342541  -2.579767  1.370111   \n",
       "39183        2.752604    -1.159973  -0.964567  -1.643541  -0.187727  1.158253   \n",
       "243749      -0.349231     1.205443  -3.576362   3.299436  -7.460433  7.783634   \n",
       "\n",
       "               V5        V6         V7         V8  ...       V20       V21  \\\n",
       "187129  -0.552984 -0.096693   0.369812   0.013613  ...  0.249433 -0.053025   \n",
       "15751  -18.224513 -4.609968 -17.681003  16.213627  ...  1.649202  1.777063   \n",
       "85359   -1.131725 -1.114064  -1.242638   1.842392  ... -0.699296  0.429782   \n",
       "39183   -2.458336  0.852222   2.785163  -0.303609  ...  1.784449  0.447180   \n",
       "243749  -0.398549 -1.968441  -3.110476  -0.328404  ... -0.181455  0.540731   \n",
       "\n",
       "             V22       V23       V24       V25       V26       V27       V28  \\\n",
       "187129 -0.101098  0.132048 -0.617426 -0.562521 -0.529929  0.264130  0.117835   \n",
       "15751  -1.804874 -1.140605  0.152234  1.715997 -0.220471  1.434951  0.422492   \n",
       "85359   0.290839  0.007618  0.008380 -0.539355 -0.478687 -1.188405 -0.576327   \n",
       "39183   0.536204  1.634061  0.203839  0.218749 -0.221886 -0.308555 -0.164500   \n",
       "243749  0.719526  0.379249 -0.616962 -0.442811  0.359841 -2.651825  0.422184   \n",
       "\n",
       "        Class  \n",
       "187129      0  \n",
       "15751       1  \n",
       "85359       0  \n",
       "39183       1  \n",
       "243749      1  \n",
       "\n",
       "[5 rows x 31 columns]"
      ]
     },
     "execution_count": 17,
     "metadata": {},
     "output_type": "execute_result"
    }
   ],
   "source": [
    "df = df.sample(frac=1)\n",
    "\n",
    "fraud_df =  df[df['Class'] ==1]\n",
    "valid_df = df.loc[np.random.choice(df.index, 492, replace=False)]\n",
    "\n",
    "normal_distributed_df = pd.concat([fraud_df, valid_df])\n",
    "\n",
    "# Shuffle dataframe rows\n",
    "new_df = normal_distributed_df.sample(frac=1, random_state=42)\n",
    "\n",
    "\n",
    "new_df = pd.DataFrame(new_df)\n",
    "new_df.head()"
   ]
  },
  {
   "cell_type": "code",
   "execution_count": 18,
   "metadata": {},
   "outputs": [
    {
     "data": {
      "text/plain": [
       "(984, 31)"
      ]
     },
     "execution_count": 18,
     "metadata": {},
     "output_type": "execute_result"
    }
   ],
   "source": [
    "# Our new dataset which contains 984 transactions in random order (492 valid and 492 fraud)\n",
    "\n",
    "normal_distributed_df1 = pd.concat([fraud_df ,valid_df], axis=0)\n",
    "new_df = normal_distributed_df1.sample(frac=1, random_state=42)\n",
    "\n",
    "new_df.shape"
   ]
  },
  {
   "cell_type": "code",
   "execution_count": 19,
   "metadata": {},
   "outputs": [
    {
     "name": "stdout",
     "output_type": "stream",
     "text": [
      "Distribution of the Classes in the new dataset\n",
      "\n",
      "\n"
     ]
    },
    {
     "data": {
      "image/png": "[encoded data removed]",
      "text/plain": [
       "<Figure size 432x288 with 1 Axes>"
      ]
     },
     "metadata": {
      "needs_background": "light"
     },
     "output_type": "display_data"
    }
   ],
   "source": [
    "# We present the new dataset of the equally possible transactions\n",
    "\n",
    "print('Distribution of the Classes in the new dataset')\n",
    "\n",
    "sns.countplot('Class', data=new_df)\n",
    "sns.color_palette(\"Set2\", 2)\n",
    "print('\\n')\n",
    "plt.title('Equally Distributed Classes',fontsize=13)\n",
    "plt.show()"
   ]
  },
  {
   "cell_type": "code",
   "execution_count": 20,
   "metadata": {},
   "outputs": [
    {
     "name": "stdout",
     "output_type": "stream",
     "text": [
      "Percentage of normal transactions:  0.49898373983739835\n",
      "Percentage of fraud transactions:  0.5010162601626016\n",
      "Total number of transactions in resampled data:  984\n"
     ]
    }
   ],
   "source": [
    "# Showing ratio\n",
    "# Our equally likely data as we can see below\n",
    "\n",
    "print(\"Percentage of normal transactions: \", (len(new_df[new_df['Class']==0])/len(new_df)))\n",
    "print(\"Percentage of fraud transactions: \", (len(new_df[new_df['Class']==1])/len(new_df)))\n",
    "print(\"Total number of transactions in resampled data: \", len(new_df))"
   ]
  },
  {
   "cell_type": "code",
   "execution_count": 21,
   "metadata": {},
   "outputs": [
    {
     "data": {
      "image/png": "[encoded data removed]",
      "text/plain": [
       "<Figure size 1440x720 with 2 Axes>"
      ]
     },
     "metadata": {
      "needs_background": "light"
     },
     "output_type": "display_data"
    }
   ],
   "source": [
    "# We will not use this heatmap as a reference\n",
    "\n",
    "corr = df.corr()\n",
    "fig, ax = plt.subplots(figsize=(20,10))\n",
    "sns.heatmap(corr, cmap='viridis', annot_kws={'size':20},linewidths= 0.05)\n",
    "ax.set_title(\"Old Correlation Matrix \\n (don't use for reference)\", fontsize=13)\n",
    "plt.show()"
   ]
  },
  {
   "cell_type": "code",
   "execution_count": 22,
   "metadata": {},
   "outputs": [
    {
     "data": {
      "image/png": "[encoded data removed]",
      "text/plain": [
       "<Figure size 1440x720 with 2 Axes>"
      ]
     },
     "metadata": {
      "needs_background": "light"
     },
     "output_type": "display_data"
    }
   ],
   "source": [
    "# We will use this heatmap as a reference\n",
    "\n",
    "corr1 = new_df.corr()\n",
    "fig, ax = plt.subplots(figsize=(20,10))\n",
    "ax.set_title('SubSample Correlation Matrix \\n (use for reference)', fontsize=13)\n",
    "sns.heatmap(corr, cmap='viridis', annot_kws={'size':20}, linewidths= 0.05)\n",
    "plt.show()"
   ]
  },
  {
   "cell_type": "markdown",
   "metadata": {},
   "source": [
    "                                                                                             IQR METHOD "
   ]
  },
  {
   "cell_type": "code",
   "execution_count": 23,
   "metadata": {},
   "outputs": [
    {
     "name": "stdout",
     "output_type": "stream",
     "text": [
      "Positive Correlation Boxtplos \n",
      "\n"
     ]
    },
    {
     "data": {
      "image/png": "[encoded data removed]",
      "text/plain": [
       "<Figure size 1800x1080 with 5 Axes>"
      ]
     },
     "metadata": {
      "needs_background": "light"
     },
     "output_type": "display_data"
    }
   ],
   "source": [
    "# Find the positive correletaion which can be our outliers\n",
    "# Positive correlation: The higher the feature value the probability increases that it will be a fraudulent transaction\n",
    "\n",
    "f, axes = plt.subplots(ncols=5, figsize=(25,15))\n",
    "\n",
    "sns.boxplot(x='Class' , y ='V3',  data = new_df, ax=axes[0])\n",
    "sns.boxplot(x='Class' , y ='V7',  data = new_df, ax=axes[1])\n",
    "sns.boxplot(x='Class' , y ='V14', data = new_df, ax=axes[2])\n",
    "sns.boxplot(x='Class' , y ='V17', data = new_df, ax=axes[3])\n",
    "sns.boxplot(x='Class' , y ='V20', data = new_df, ax=axes[4])\n",
    "\n",
    "print('Positive Correlation Boxtplos', '\\n')\n",
    "plt.show()"
   ]
  },
  {
   "cell_type": "code",
   "execution_count": 24,
   "metadata": {},
   "outputs": [
    {
     "name": "stdout",
     "output_type": "stream",
     "text": [
      "The 25th Quartile is : -0.17160787864795998\n",
      "The 75th Quantile is : 0.8255659853134241\n",
      "The IQR of V20 is : 0.9971738639613841 \n",
      "\n",
      "The v20 that we will remove is : 1.495760795942076\n",
      "The min point is : -1.667368674590036\n",
      "The max point is : 2.3213267812555003\n",
      "\n",
      "\n",
      "The number of the outliers is :  41\n",
      "The number of transactions after the outliers removes is : 936\n",
      "The new dataset after we remove the outliers of v20 is : (936, 31)\n"
     ]
    }
   ],
   "source": [
    "# We will remove of the extreme outliers from top two positive correlation\n",
    "# First the V20\n",
    "\n",
    "v20_fraud = new_df['V20'].loc[new_df['Class'] == 1 ].values\n",
    "\n",
    "q25 = np.percentile(v20_fraud , 25)\n",
    "q75 = np.percentile(v20_fraud , 75)\n",
    "\n",
    "print('The 25th Quartile is :' , q25)\n",
    "print('The 75th Quantile is :' , q75)\n",
    "\n",
    "v20_iqr = q75 - q25\n",
    "\n",
    "print('The IQR of V20 is :' , v20_iqr , '\\n')\n",
    "\n",
    "v20_off = 1.5 * v20_iqr\n",
    "v20_lower = q25 - v20_off\n",
    "v20_upper = q75 + v20_off\n",
    "\n",
    "print('The v20 that we will remove is :' , v20_off)\n",
    "print('The min point is :' , v20_lower)\n",
    "print('The max point is :' , v20_upper)\n",
    "print('\\n')\n",
    "\n",
    "outliers_v20 = [i for i in v20_fraud if i < v20_lower or i > v20_upper ]\n",
    "new_df_v20 = new_df.drop(new_df[(new_df['V20'] > v20_upper) | (new_df['V20'] < v20_lower)].index)\n",
    "\n",
    "print('The number of the outliers is : ', len(outliers_v20))\n",
    "print('The number of transactions after the outliers removes is :' , len(new_df_v20))\n",
    "print('The new dataset after we remove the outliers of v20 is :' , new_df_v20.shape)\n",
    "\n",
    "#984 - 41 = 943 , so our model applies good so far"
   ]
  },
  {
   "cell_type": "code",
   "execution_count": 25,
   "metadata": {},
   "outputs": [
    {
     "name": "stdout",
     "output_type": "stream",
     "text": [
      "Before and After we apply the IQR method and remove the outliers of V20 \n",
      "\n"
     ]
    },
    {
     "data": {
      "image/png": "[encoded data removed]",
      "text/plain": [
       "<Figure size 720x720 with 2 Axes>"
      ]
     },
     "metadata": {
      "needs_background": "light"
     },
     "output_type": "display_data"
    }
   ],
   "source": [
    "# We can compare our boxplots before and after we remove the outliers of V20. \n",
    "\n",
    "f,(ax1, ax2) = plt.subplots(1, 2, figsize=(10,10))\n",
    "\n",
    "sns.boxplot( x=\"Class\", y=\"V20\", data=new_df, ax=ax1 )\n",
    "sns.boxplot( x=\"Class\", y=\"V20\", data=new_df_v20, ax=ax2 )\n",
    "\n",
    "print('Before and After we apply the IQR method and remove the outliers of V20', '\\n')"
   ]
  },
  {
   "cell_type": "code",
   "execution_count": 26,
   "metadata": {},
   "outputs": [
    {
     "name": "stdout",
     "output_type": "stream",
     "text": [
      "The 25th Quartile is : -8.63180221299529\n",
      "The 75th Quantile is :  -2.2739767978925\n",
      "The IQR of V3 is : 6.3578254151027895 \n",
      "\n",
      "The v3 tha we will remove is : 9.536738122654185\n",
      "The min point is : -18.168540335649475\n",
      "The max point is : 7.262761324761685\n",
      "\n",
      "\n",
      "The number of the outliers is :  53\n",
      "The number of transactions after the outliers removes is : 931\n",
      "The new dataset after we remove the outliers of v3 is : (931, 31)\n"
     ]
    }
   ],
   "source": [
    "# We will remove of the extreme outliers from top two positive correlation\n",
    "# First the V3\n",
    "\n",
    "v3_fraud = new_df['V3'].loc[new_df['Class'] == 1 ].values\n",
    "\n",
    "q25 = np.percentile(v3_fraud , 25)\n",
    "q75 = np.percentile(v3_fraud , 75)\n",
    "\n",
    "print('The 25th Quartile is :' , q25)\n",
    "print('The 75th Quantile is : ' , q75)\n",
    "\n",
    "v3_iqr = q75 - q25\n",
    "\n",
    "print('The IQR of V3 is :' , v3_iqr , '\\n')\n",
    "v3_off = 1.5 * v3_iqr\n",
    "v3_lower = q25 - v3_off\n",
    "v3_upper = q75 + v3_off\n",
    "\n",
    "print('The v3 tha we will remove is :' , v3_off)\n",
    "print('The min point is :' , v3_lower)\n",
    "print('The max point is :' , v3_upper)\n",
    "print('\\n')\n",
    "\n",
    "outliers_v3 = [i for i in v3_fraud if i < v3_lower or i > v3_upper ]\n",
    "new_df_v3 = new_df.drop(new_df[(new_df['V3'] > v3_upper) | (new_df['V3'] < v3_lower)].index)\n",
    "\n",
    "print('The number of the outliers is : ', len(outliers_v3))\n",
    "print('The number of transactions after the outliers removes is :' , len(new_df_v3))\n",
    "print('The new dataset after we remove the outliers of v3 is :' , new_df_v3.shape)\n",
    "\n",
    "#984 - 53 = 931 , so our model is really good"
   ]
  },
  {
   "cell_type": "code",
   "execution_count": 27,
   "metadata": {},
   "outputs": [
    {
     "name": "stdout",
     "output_type": "stream",
     "text": [
      "Before and After we apply the IQR method and remove the outliers of V3 \n",
      "\n"
     ]
    },
    {
     "data": {
      "image/png": "[encoded data removed]",
      "text/plain": [
       "<Figure size 720x720 with 2 Axes>"
      ]
     },
     "metadata": {
      "needs_background": "light"
     },
     "output_type": "display_data"
    }
   ],
   "source": [
    "# We can compare our boxplots before and after we remove the outliers of V3 \n",
    "\n",
    "f,(ax1, ax2) = plt.subplots(1, 2, figsize=(10,10))\n",
    "\n",
    "sns.boxplot(x=\"Class\", y=\"V3\", data=new_df, ax=ax1)\n",
    "sns.boxplot(x=\"Class\", y=\"V3\", data=new_df_v3, ax=ax2)\n",
    "\n",
    "print('Before and After we apply the IQR method and remove the outliers of V3' , '\\n')"
   ]
  },
  {
   "cell_type": "code",
   "execution_count": 28,
   "metadata": {},
   "outputs": [
    {
     "name": "stdout",
     "output_type": "stream",
     "text": [
      "Negative Correlation Boxtplos \n",
      "\n"
     ]
    },
    {
     "data": {
      "image/png": "[encoded data removed]",
      "text/plain": [
       "<Figure size 1800x720 with 5 Axes>"
      ]
     },
     "metadata": {
      "needs_background": "light"
     },
     "output_type": "display_data"
    }
   ],
   "source": [
    "# Negative correlation: The lower the feature value,the probability decreases that it will be a fraudulent transaction.\n",
    "\n",
    "f, axes = plt.subplots(ncols=5, figsize=(25,10))\n",
    "\n",
    "sns.boxplot( x='Class' , y ='V10', data = new_df, ax=axes[0] )\n",
    "sns.boxplot( x='Class' , y ='V12', data = new_df, ax=axes[1] )\n",
    "sns.boxplot( x='Class' , y ='V14', data = new_df, ax=axes[2] )\n",
    "sns.boxplot( x='Class' , y ='V16', data = new_df, ax=axes[3] )\n",
    "sns.boxplot( x='Class' , y ='V17', data = new_df, ax=axes[4] )\n",
    "\n",
    "print('Negative Correlation Boxtplos' , '\\n')\n",
    "plt.show()"
   ]
  },
  {
   "cell_type": "code",
   "execution_count": 29,
   "metadata": {
    "scrolled": true
   },
   "outputs": [
    {
     "name": "stdout",
     "output_type": "stream",
     "text": [
      "The 25th Quartile is : -7.748480049505821\n",
      "The 75th Quantile is : -2.5444104189559997\n",
      "The IQR of V10 is : 5.204069630549821 \n",
      "\n",
      "The v10 tha we will remove is : 7.806104445824731\n",
      "The min point is : -15.554584495330552\n",
      "The max point is : 5.2616940268687316\n",
      "\n",
      "\n",
      "The number of the outliers is :  19\n",
      "The number of transactions after the outliers removes is : 965\n",
      "The new dataset after we remove the outliers of v10 is : (965, 31)\n"
     ]
    }
   ],
   "source": [
    "# We will remove of the extreme outliers from top two negative correlation\n",
    "# First the V10\n",
    "\n",
    "v10_fraud = new_df['V10'].loc[new_df['Class'] == 1 ].values\n",
    "\n",
    "q25 = np.percentile(v10_fraud , 25)\n",
    "q75 = np.percentile(v10_fraud , 75)\n",
    "\n",
    "print('The 25th Quartile is :' , q25)\n",
    "print('The 75th Quantile is :' , q75)\n",
    "\n",
    "v10_iqr = q75 - q25\n",
    "\n",
    "print('The IQR of V10 is :' , v10_iqr , '\\n')\n",
    "\n",
    "v10_off = 1.5* v10_iqr\n",
    "v10_lower = q25 - v10_off\n",
    "v10_upper = q75 + v10_off\n",
    "\n",
    "print('The v10 tha we will remove is :' , v10_off)\n",
    "print('The min point is :' , v10_lower)\n",
    "print('The max point is :' , v10_upper)\n",
    "print('\\n')\n",
    "\n",
    "outliers_v10 = [i for i in v10_fraud if i < v10_lower or i > v10_upper ]\n",
    "new_df_v10 = new_df.drop(new_df[(new_df['V10'] > v10_upper) | (new_df['V10'] < v10_lower)].index)\n",
    "\n",
    "print('The number of the outliers is : ', len(outliers_v10))\n",
    "print('The number of transactions after the outliers removes is :' , len(new_df_v10))\n",
    "print('The new dataset after we remove the outliers of v10 is :' ,new_df_v10.shape)"
   ]
  },
  {
   "cell_type": "code",
   "execution_count": 30,
   "metadata": {},
   "outputs": [
    {
     "name": "stdout",
     "output_type": "stream",
     "text": [
      "Before and After we apply the IQR method and remove the outliers of V10 \n",
      "\n"
     ]
    },
    {
     "data": {
      "image/png": "[encoded data removed]",
      "text/plain": [
       "<Figure size 936x720 with 2 Axes>"
      ]
     },
     "metadata": {
      "needs_background": "light"
     },
     "output_type": "display_data"
    }
   ],
   "source": [
    "# We can compare our boxplots before and after we remove the outliers of V10\n",
    "\n",
    "f,(ax1, ax2) = plt.subplots(1, 2, figsize=(13,10))\n",
    "\n",
    "sns.boxplot( x=\"Class\", y=\"V10\", data=new_df, ax = ax1 )\n",
    "sns.boxplot( x=\"Class\", y=\"V10\", data=new_df_v10, ax = ax2 )\n",
    "\n",
    "print('Before and After we apply the IQR method and remove the outliers of V10' , '\\n')"
   ]
  },
  {
   "cell_type": "code",
   "execution_count": 31,
   "metadata": {
    "scrolled": true
   },
   "outputs": [
    {
     "name": "stdout",
     "output_type": "stream",
     "text": [
      "The 25th Quartile is : -9.6576265944335\n",
      "The 75th Quantile is :  -4.2672960668817\n",
      "The IQR of V14 is : 5.3903305275518 \n",
      "\n",
      "The v14 tha we will remove is : 8.0854957913277\n",
      "The min point is : -17.7431223857612\n",
      "The max point is : 3.818199724446 \n",
      "\n",
      "The number of the outliers is :  4\n",
      "The number of transactions after the outliers removes is : 978\n",
      "The new dataset after we remove the outliers of v14 is : (978, 31)\n"
     ]
    }
   ],
   "source": [
    "# We will remove of the extreme outliers from top two positive correlation\n",
    "# First the V14\n",
    "\n",
    "v14_fraud = new_df['V14'].loc[new_df['Class'] == 1 ].values\n",
    "\n",
    "q25 = np.percentile(v14_fraud , 25)\n",
    "q75 = np.percentile(v14_fraud , 75)\n",
    "\n",
    "print('The 25th Quartile is :' , q25)\n",
    "print('The 75th Quantile is : ' , q75)\n",
    "\n",
    "v14_iqr = q75 - q25\n",
    "\n",
    "print('The IQR of V14 is :' , v14_iqr, '\\n')\n",
    "\n",
    "v14_off = 1.5* v14_iqr\n",
    "v14_lower = q25 - v14_off\n",
    "v14_upper = q75 + v14_off\n",
    "\n",
    "print('The v14 tha we will remove is :' , v14_off)\n",
    "print('The min point is :' , v14_lower)\n",
    "print('The max point is :' , v14_upper,'\\n')\n",
    "\n",
    "outliers_v14 = [i for i in v14_fraud if i < v14_lower or i > v14_upper ]\n",
    "new_df_v14 = new_df.drop(new_df[(new_df['V14'] > v14_upper) | (new_df['V14'] < v14_lower)].index)\n",
    "\n",
    "print('The number of the outliers is : ', len(outliers_v14))\n",
    "print('The number of transactions after the outliers removes is :' , len(new_df_v14))\n",
    "print('The new dataset after we remove the outliers of v14 is :' ,new_df_v14.shape)\n",
    "\n",
    "#984 - 5 = 979 , so our model is real good "
   ]
  },
  {
   "cell_type": "code",
   "execution_count": 32,
   "metadata": {},
   "outputs": [
    {
     "name": "stdout",
     "output_type": "stream",
     "text": [
      "Before and After we apply the IQR method and remove the outliers of V14 \n",
      "\n"
     ]
    },
    {
     "data": {
      "image/png": "[encoded data removed]",
      "text/plain": [
       "<Figure size 720x720 with 2 Axes>"
      ]
     },
     "metadata": {
      "needs_background": "light"
     },
     "output_type": "display_data"
    }
   ],
   "source": [
    "# We can compare our boxplots before and after we remove the outliers of V14\n",
    "\n",
    "f,(ax1, ax2) = plt.subplots(1, 2, figsize=(10,10))\n",
    "\n",
    "sns.boxplot( x=\"Class\", y=\"V14\", data=new_df, ax=ax1)\n",
    "sns.boxplot( x=\"Class\", y=\"V14\", data=new_df_v14, ax=ax2)\n",
    "\n",
    "print('Before and After we apply the IQR method and remove the outliers of V14' , '\\n' )"
   ]
  },
  {
   "cell_type": "code",
   "execution_count": 33,
   "metadata": {},
   "outputs": [],
   "source": [
    "X = df.drop(['Class'], axis=1)\n",
    "y = df['Class']"
   ]
  },
  {
   "cell_type": "code",
   "execution_count": 34,
   "metadata": {},
   "outputs": [],
   "source": [
    "# Spliting the dataset in train set and test set, using sklearn libraly\n",
    "\n",
    "from sklearn.model_selection import train_test_split\n",
    "\n",
    "X_train, X_test, y_train, y_test = train_test_split( X, y, test_size=0.2, random_state=42 )"
   ]
  },
  {
   "cell_type": "code",
   "execution_count": 35,
   "metadata": {},
   "outputs": [],
   "source": [
    "from sklearn.metrics import (confusion_matrix, roc_curve, classification_report, \n",
    "                            precision_score, recall_score, accuracy_score, f1_score, roc_auc_score)"
   ]
  },
  {
   "cell_type": "code",
   "execution_count": 36,
   "metadata": {},
   "outputs": [
    {
     "name": "stdout",
     "output_type": "stream",
     "text": [
      "The errors of the Isolation Forest model is  711 \n",
      "\n",
      "Model Accuracy: 1.0\n",
      "Model Precision: 0.37\n",
      "Model Recall: 0.31\n",
      "Model F1-Score: 0.34\n",
      "Model ROC: 0.66 \n",
      "\n",
      "\n",
      "               precision    recall  f1-score   support\n",
      "\n",
      "           0       1.00      1.00      1.00    284226\n",
      "           1       0.37      0.31      0.34       581\n",
      "\n",
      "    accuracy                           1.00    284807\n",
      "   macro avg       0.68      0.66      0.67    284807\n",
      "weighted avg       1.00      1.00      1.00    284807\n",
      " \n",
      "\n"
     ]
    },
    {
     "data": {
      "image/png": "[encoded data removed]",
      "text/plain": [
       "<Figure size 432x432 with 2 Axes>"
      ]
     },
     "metadata": {
      "needs_background": "light"
     },
     "output_type": "display_data"
    }
   ],
   "source": [
    "# ISOLATION FOREST TREE MODEL\n",
    "\n",
    "from sklearn.ensemble import IsolationForest\n",
    "\n",
    "isf = IsolationForest(random_state = 42, max_samples = len(X)).fit(X)    # Fitting the model\n",
    "y_prediction = isf.predict(X)                                            # Prediction using trained model\n",
    "\n",
    "# The isolation forest use (-1,1) in order to predict the result\n",
    "# But we have valid = 0 and fraud = 1 , so we must make some changes  before we run it\n",
    "\n",
    "y_prediction[y_prediction == 1] = 0                                     # Valid transactions are labelled as 0\n",
    "y_prediction[y_prediction == -1] = 1                                    # Fraudulent transactions are labelled as 1\n",
    "\n",
    "errors = (y_prediction != y).sum()                                      # Total number of errors is calculated\n",
    "\n",
    "print('The errors of the Isolation Forest model is ', errors , '\\n')\n",
    "\n",
    "print(\"Model Accuracy:\", round(accuracy_score(y_prediction , y),2))\n",
    "print(\"Model Precision:\", round(precision_score(y_prediction , y),2))\n",
    "print(\"Model Recall:\", round(recall_score(y_prediction , y),2))\n",
    "print(\"Model F1-Score:\", round(f1_score(y_prediction , y),2))\n",
    "print(\"Model ROC:\", round(roc_auc_score(y_prediction , y),2) , '\\n')\n",
    "\n",
    "\n",
    "conf_matrix=confusion_matrix(y_prediction,y )\n",
    "labels= ['Valid', 'Fraud'] \n",
    "plt.figure(figsize=(6, 6)) \n",
    "\n",
    "sns.heatmap(pd.DataFrame(conf_matrix), xticklabels= labels, yticklabels= labels, \n",
    "            linewidths= 0.05 ,annot=True, fmt=\"d\" , cmap='BuPu')\n",
    "\n",
    "print('\\n' ,classification_report(y_prediction , y) , '\\n')\n",
    "\n",
    "plt.title(\"Isolation Forest Classifier - Confusion Matrix\") \n",
    "plt.ylabel('True Value') \n",
    "plt.xlabel('Predicted Value') \n",
    "plt.show()"
   ]
  },
  {
   "cell_type": "code",
   "execution_count": 37,
   "metadata": {},
   "outputs": [
    {
     "data": {
      "image/png": "[encoded data removed]",
      "text/plain": [
       "<Figure size 432x288 with 1 Axes>"
      ]
     },
     "metadata": {
      "needs_background": "light"
     },
     "output_type": "display_data"
    }
   ],
   "source": [
    "fpr, tpr, thresholds = roc_curve(y,y_prediction )\n",
    "\n",
    "plt.plot(fpr, tpr, '--', lw=3)\n",
    "plt.title('The Roc Curve of Isolation Forest')\n",
    "plt.xlabel('False Positive Rate')\n",
    "plt.ylabel('True Positive Rate')\n",
    "plt.show()"
   ]
  },
  {
   "cell_type": "code",
   "execution_count": 38,
   "metadata": {},
   "outputs": [
    {
     "name": "stdout",
     "output_type": "stream",
     "text": [
      "Model Accuracy: 1.0\n",
      "Model Precision: 0.91\n",
      "Model Recall: 0.81\n",
      "Model F1-Score: 0.86\n",
      "Model ROC: 0.91 \n",
      "\n",
      "              precision    recall  f1-score   support\n",
      "\n",
      "       Valid       1.00      1.00      1.00     56865\n",
      "       Fraud       0.91      0.81      0.86        97\n",
      "\n",
      "    accuracy                           1.00     56962\n",
      "   macro avg       0.95      0.91      0.93     56962\n",
      "weighted avg       1.00      1.00      1.00     56962\n",
      " \n",
      "\n"
     ]
    },
    {
     "data": {
      "image/png": "[encoded data removed]",
      "text/plain": [
       "<Figure size 432x432 with 2 Axes>"
      ]
     },
     "metadata": {
      "needs_background": "light"
     },
     "output_type": "display_data"
    }
   ],
   "source": [
    "# RANDOM FOREST CLASSIFIER MODEL \n",
    "\n",
    "from sklearn.ensemble import RandomForestClassifier\n",
    "\n",
    "rfc=RandomForestClassifier( random_state = 42 ) \n",
    "rfc.fit(X_train, y_train) \n",
    "Y_pred=rfc.predict(X_test) \n",
    "\n",
    "print(\"Model Accuracy:\", round(accuracy_score(y_test, Y_pred),2))\n",
    "print(\"Model Precision:\", round(precision_score(y_test, Y_pred),2))\n",
    "print(\"Model Recall:\", round(recall_score(y_test, Y_pred),2))\n",
    "print(\"Model F1-Score:\", round(f1_score(y_test, Y_pred),2))\n",
    "print(\"Model ROC:\", round(roc_auc_score(y_test, Y_pred),2) , '\\n')\n",
    "\n",
    "conf_matrix=confusion_matrix(y_test, Y_pred) \n",
    "labels= ['Valid', 'Fraud'] \n",
    "plt.figure(figsize=(6, 6)) \n",
    "\n",
    "sns.heatmap(pd.DataFrame(conf_matrix), xticklabels= labels, yticklabels= labels, \n",
    "            linewidths= 0.05 ,annot=True, fmt=\"d\" , cmap='BuPu')\n",
    "\n",
    "print(classification_report(y_test, Y_pred, target_names=labels) , '\\n')\n",
    "\n",
    "plt.title(\"Random Forest Classifier - Confusion Matrix\") \n",
    "plt.ylabel('True Value') \n",
    "plt.xlabel('Predicted Value') \n",
    "plt.show()"
   ]
  },
  {
   "cell_type": "code",
   "execution_count": 39,
   "metadata": {},
   "outputs": [
    {
     "name": "stdout",
     "output_type": "stream",
     "text": [
      "Model Accuracy: 1.0\n",
      "Model Precision: 0.82\n",
      "Model Recall: 0.72\n",
      "Model F1-Score: 0.77 \n",
      "\n",
      "              precision    recall  f1-score   support\n",
      "\n",
      "       Valid       1.00      1.00      1.00     56865\n",
      "       Fraud       0.82      0.72      0.77        97\n",
      "\n",
      "    accuracy                           1.00     56962\n",
      "   macro avg       0.91      0.86      0.88     56962\n",
      "weighted avg       1.00      1.00      1.00     56962\n",
      " \n",
      "\n"
     ]
    },
    {
     "data": {
      "image/png": "[encoded data removed]",
      "text/plain": [
       "<Figure size 432x432 with 2 Axes>"
      ]
     },
     "metadata": {
      "needs_background": "light"
     },
     "output_type": "display_data"
    }
   ],
   "source": [
    "# LOGISTIC REGRESSION MODEL\n",
    "\n",
    "from sklearn.linear_model import LogisticRegression\n",
    "\n",
    "logreg = LogisticRegression(random_state = 42)\n",
    "logreg.fit(X_train, y_train)\n",
    "Y_pred1 = logreg.predict(X_test)\n",
    "\n",
    "print(\"Model Accuracy:\", round(accuracy_score(y_test, Y_pred1),2))\n",
    "print(\"Model Precision:\", round(precision_score(y_test, Y_pred1),2))\n",
    "print(\"Model Recall:\", round(recall_score(y_test, Y_pred1),2))\n",
    "print(\"Model F1-Score:\", round(f1_score(y_test, Y_pred1),2) , '\\n')\n",
    "\n",
    "\n",
    "conf_matrix1 = confusion_matrix(y_test, Y_pred1)\n",
    "plt.figure(figsize=(6, 6)) \n",
    "labels= ['Valid', 'Fraud'] \n",
    "\n",
    "sns.heatmap(pd.DataFrame(conf_matrix1),annot=True, fmt='d',\n",
    "            linewidths= 0.05 ,cmap='BuPu',xticklabels= labels, yticklabels= labels)\n",
    "\n",
    "print(classification_report(y_test, Y_pred1, target_names=labels) , '\\n')\n",
    "\n",
    "plt.title('Logistic Regression - Confusion Matrix')\n",
    "plt.ylabel('True Value')\n",
    "plt.xlabel('Predicted Value')\n",
    "plt.show()"
   ]
  },
  {
   "cell_type": "code",
   "execution_count": 40,
   "metadata": {},
   "outputs": [
    {
     "name": "stdout",
     "output_type": "stream",
     "text": [
      "Model Accuracy: 1.0\n",
      "Model Precision: 0.7\n",
      "Model Recall: 0.85\n",
      "Model F1-Score: 0.77 \n",
      "\n",
      "              precision    recall  f1-score   support\n",
      "\n",
      "       Valid       1.00      1.00      1.00     56865\n",
      "       Fraud       0.70      0.85      0.77        97\n",
      "\n",
      "    accuracy                           1.00     56962\n",
      "   macro avg       0.85      0.92      0.88     56962\n",
      "weighted avg       1.00      1.00      1.00     56962\n",
      " \n",
      "\n"
     ]
    },
    {
     "data": {
      "image/png": "[encoded data removed]",
      "text/plain": [
       "<Figure size 432x432 with 2 Axes>"
      ]
     },
     "metadata": {
      "needs_background": "light"
     },
     "output_type": "display_data"
    }
   ],
   "source": [
    "# DECISSION TREE CLASSIFIER MODEL\n",
    "\n",
    "from sklearn.tree import DecisionTreeClassifier\n",
    "\n",
    "dtc = DecisionTreeClassifier(random_state = 42)\n",
    "dtc.fit(X_train,y_train)\n",
    "Y_pred2 = dtc.predict(X_test)\n",
    "conf_matrix2 = confusion_matrix(y_test , Y_pred2)\n",
    "\n",
    "print(\"Model Accuracy:\", round(accuracy_score(y_test, Y_pred2),2))\n",
    "print(\"Model Precision:\", round(precision_score(y_test, Y_pred2),2))\n",
    "print(\"Model Recall:\", round(recall_score(y_test, Y_pred2),2))\n",
    "print(\"Model F1-Score:\", round(f1_score(y_test, Y_pred2),2) , '\\n')\n",
    "\n",
    "conf_matrix2 = confusion_matrix(y_test, Y_pred2)\n",
    "plt.figure(figsize=(6, 6))\n",
    "labels= ['Valid', 'Fraud'] \n",
    "\n",
    "sns.heatmap(pd.DataFrame(conf_matrix2),annot=True, fmt='d',linewidths= 0.05 ,cmap='BuPu',\n",
    "            xticklabels= labels, yticklabels= labels)\n",
    "\n",
    "print(classification_report(y_test,Y_pred2,target_names=labels) , '\\n')\n",
    "\n",
    "plt.title('Decission Tree Classifier - Confusion Matrix')\n",
    "plt.ylabel('True Value') \n",
    "plt.xlabel('Predicted Value') \n",
    "plt.show()"
   ]
  },
  {
   "cell_type": "code",
   "execution_count": 41,
   "metadata": {},
   "outputs": [
    {
     "name": "stdout",
     "output_type": "stream",
     "text": [
      "Model Accuracy: 1.0\n",
      "Model Precision: 0.8\n",
      "Model Recall: 0.72\n",
      "Model F1-Score: 0.76 \n",
      "\n",
      "              precision    recall  f1-score   support\n",
      "\n",
      "       Valid       1.00      1.00      1.00     56865\n",
      "       Fraud       0.70      0.85      0.77        97\n",
      "\n",
      "    accuracy                           1.00     56962\n",
      "   macro avg       0.85      0.92      0.88     56962\n",
      "weighted avg       1.00      1.00      1.00     56962\n",
      " \n",
      "\n"
     ]
    },
    {
     "data": {
      "image/png": "[encoded data removed]",
      "text/plain": [
       "<Figure size 432x432 with 2 Axes>"
      ]
     },
     "metadata": {
      "needs_background": "light"
     },
     "output_type": "display_data"
    }
   ],
   "source": [
    "# NAIVE BAYES CLASSIFIER\n",
    "\n",
    "from sklearn.naive_bayes import BernoulliNB\n",
    "\n",
    "NB = BernoulliNB()\n",
    "NB.fit(X_train,y_train)\n",
    "Y_pred3 = NB.predict(X_test)\n",
    "conf_matrix_nb = confusion_matrix(y_test , Y_pred3)\n",
    "\n",
    "print(\"Model Accuracy:\", round(accuracy_score(y_test, Y_pred3),2))\n",
    "print(\"Model Precision:\", round(precision_score(y_test, Y_pred3),2))\n",
    "print(\"Model Recall:\", round(recall_score(y_test, Y_pred3),2))\n",
    "print(\"Model F1-Score:\", round(f1_score(y_test, Y_pred3),2) , '\\n')\n",
    "\n",
    "conf_matrix2 = confusion_matrix(y_test, Y_pred3)\n",
    "plt.figure(figsize=(6, 6))\n",
    "labels= ['Valid', 'Fraud'] \n",
    "\n",
    "sns.heatmap(pd.DataFrame(conf_matrix2),annot=True, fmt='d',linewidths= 0.05 ,cmap='BuPu',\n",
    "            xticklabels= labels, yticklabels= labels)\n",
    "\n",
    "print(classification_report(y_test,Y_pred2,target_names=labels) , '\\n')\n",
    "\n",
    "plt.title('Naive Bayes Classifier - Confusion Matrix')\n",
    "plt.ylabel('True Value') \n",
    "plt.xlabel('Predicted Value') \n",
    "plt.show()"
   ]
  },
  {
   "cell_type": "code",
   "execution_count": 42,
   "metadata": {},
   "outputs": [
    {
     "name": "stdout",
     "output_type": "stream",
     "text": [
      "Model Accuracy: 1.0\n",
      "Model Precision: 0.96\n",
      "Model Recall: 0.75\n",
      "Model F1-Score: 0.84 \n",
      "\n",
      "              precision    recall  f1-score   support\n",
      "\n",
      "       Valid       1.00      1.00      1.00     56865\n",
      "       Fraud       0.70      0.85      0.77        97\n",
      "\n",
      "    accuracy                           1.00     56962\n",
      "   macro avg       0.85      0.92      0.88     56962\n",
      "weighted avg       1.00      1.00      1.00     56962\n",
      " \n",
      "\n"
     ]
    },
    {
     "data": {
      "image/png": "[encoded data removed]",
      "text/plain": [
       "<Figure size 432x432 with 2 Axes>"
      ]
     },
     "metadata": {
      "needs_background": "light"
     },
     "output_type": "display_data"
    }
   ],
   "source": [
    "# SVC CLASSIFIER MODEL\n",
    "# SVC = Support Vector Classifier\n",
    "\n",
    "from sklearn.svm import SVC\n",
    "\n",
    "svc_clf = SVC()\n",
    "svc_clf.fit(X_train,y_train)\n",
    "\n",
    "Y_pred4 = svc_clf.predict(X_test)\n",
    "\n",
    "conf_matrix_svm = confusion_matrix(y_test,Y_pred4)\n",
    "\n",
    "print(\"Model Accuracy:\", round(accuracy_score(y_test, Y_pred4),2))\n",
    "print(\"Model Precision:\", round(precision_score(y_test, Y_pred4),2))\n",
    "print(\"Model Recall:\", round(recall_score(y_test,Y_pred4),2))\n",
    "print(\"Model F1-Score:\", round(f1_score(y_test, Y_pred4),2) , '\\n')\n",
    "\n",
    "plt.figure(figsize=(6, 6))\n",
    "labels= ['Valid', 'Fraud'] \n",
    "\n",
    "sns.heatmap(pd.DataFrame(conf_matrix2),annot=True, fmt='d',linewidths= 0.05 ,cmap='BuPu',\n",
    "            xticklabels= labels, yticklabels= labels)\n",
    "\n",
    "print(classification_report(y_test,Y_pred2,target_names=labels) , '\\n')\n",
    "\n",
    "plt.title('SVC Classifier - Confusion Matrix')\n",
    "plt.ylabel('True Value') \n",
    "plt.xlabel('Predicted Value') \n",
    "plt.show()"
   ]
  }
 ],
 "metadata": {
  "kernelspec": {
   "display_name": "Python 3",
   "language": "python",
   "name": "python3"
  },
  "language_info": {
   "codemirror_mode": {
    "name": "ipython",
    "version": 3
   },
   "file_extension": ".py",
   "mimetype": "text/x-python",
   "name": "python",
   "nbconvert_exporter": "python",
   "pygments_lexer": "ipython3",
   "version": "3.7.6"
  },
  "widgets": {
   "application/vnd.jupyter.widget-state+json": {
    "state": {},
    "version_major": 2,
    "version_minor": 0
   }
  }
 },
 "nbformat": 4,
 "nbformat_minor": 4
}
