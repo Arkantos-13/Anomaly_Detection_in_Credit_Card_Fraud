{
 "cells": [
  {
   "cell_type": "code",
   "execution_count": 1,
   "metadata": {},
   "outputs": [],
   "source": [
    "# import the necessary libraries \n",
    "\n",
    "import pandas as pd # data processing, CSV file I/O (e.g. pd.read_csv)\n",
    "import numpy as np # linear algebra\n",
    "import matplotlib\n",
    "import matplotlib.pyplot as plt\n",
    "import seaborn as sns\n",
    "%matplotlib inline\n",
    "import warnings \n",
    "warnings.filterwarnings(\"ignore\")"
   ]
  },
  {
   "cell_type": "code",
   "execution_count": 2,
   "metadata": {},
   "outputs": [],
   "source": [
    "#Read the data \n",
    "\n",
    "df = pd.read_csv('Desktop/creditcard.csv')"
   ]
  },
  {
   "cell_type": "code",
   "execution_count": 3,
   "metadata": {},
   "outputs": [
    {
     "data": {
      "text/html": [
       "<div>\n",
       "<style scoped>\n",
       "    .dataframe tbody tr th:only-of-type {\n",
       "        vertical-align: middle;\n",
       "    }\n",
       "\n",
       "    .dataframe tbody tr th {\n",
       "        vertical-align: top;\n",
       "    }\n",
       "\n",
       "    .dataframe thead th {\n",
       "        text-align: right;\n",
       "    }\n",
       "</style>\n",
       "<table border=\"1\" class=\"dataframe\">\n",
       "  <thead>\n",
       "    <tr style=\"text-align: right;\">\n",
       "      <th></th>\n",
       "      <th>Time</th>\n",
       "      <th>V1</th>\n",
       "      <th>V2</th>\n",
       "      <th>V3</th>\n",
       "      <th>V4</th>\n",
       "      <th>V5</th>\n",
       "      <th>V6</th>\n",
       "      <th>V7</th>\n",
       "      <th>V8</th>\n",
       "      <th>V9</th>\n",
       "      <th>...</th>\n",
       "      <th>V21</th>\n",
       "      <th>V22</th>\n",
       "      <th>V23</th>\n",
       "      <th>V24</th>\n",
       "      <th>V25</th>\n",
       "      <th>V26</th>\n",
       "      <th>V27</th>\n",
       "      <th>V28</th>\n",
       "      <th>Amount</th>\n",
       "      <th>Class</th>\n",
       "    </tr>\n",
       "  </thead>\n",
       "  <tbody>\n",
       "    <tr>\n",
       "      <th>0</th>\n",
       "      <td>0.0</td>\n",
       "      <td>-1.359807</td>\n",
       "      <td>-0.072781</td>\n",
       "      <td>2.536347</td>\n",
       "      <td>1.378155</td>\n",
       "      <td>-0.338321</td>\n",
       "      <td>0.462388</td>\n",
       "      <td>0.239599</td>\n",
       "      <td>0.098698</td>\n",
       "      <td>0.363787</td>\n",
       "      <td>...</td>\n",
       "      <td>-0.018307</td>\n",
       "      <td>0.277838</td>\n",
       "      <td>-0.110474</td>\n",
       "      <td>0.066928</td>\n",
       "      <td>0.128539</td>\n",
       "      <td>-0.189115</td>\n",
       "      <td>0.133558</td>\n",
       "      <td>-0.021053</td>\n",
       "      <td>149.62</td>\n",
       "      <td>0</td>\n",
       "    </tr>\n",
       "    <tr>\n",
       "      <th>1</th>\n",
       "      <td>0.0</td>\n",
       "      <td>1.191857</td>\n",
       "      <td>0.266151</td>\n",
       "      <td>0.166480</td>\n",
       "      <td>0.448154</td>\n",
       "      <td>0.060018</td>\n",
       "      <td>-0.082361</td>\n",
       "      <td>-0.078803</td>\n",
       "      <td>0.085102</td>\n",
       "      <td>-0.255425</td>\n",
       "      <td>...</td>\n",
       "      <td>-0.225775</td>\n",
       "      <td>-0.638672</td>\n",
       "      <td>0.101288</td>\n",
       "      <td>-0.339846</td>\n",
       "      <td>0.167170</td>\n",
       "      <td>0.125895</td>\n",
       "      <td>-0.008983</td>\n",
       "      <td>0.014724</td>\n",
       "      <td>2.69</td>\n",
       "      <td>0</td>\n",
       "    </tr>\n",
       "    <tr>\n",
       "      <th>2</th>\n",
       "      <td>1.0</td>\n",
       "      <td>-1.358354</td>\n",
       "      <td>-1.340163</td>\n",
       "      <td>1.773209</td>\n",
       "      <td>0.379780</td>\n",
       "      <td>-0.503198</td>\n",
       "      <td>1.800499</td>\n",
       "      <td>0.791461</td>\n",
       "      <td>0.247676</td>\n",
       "      <td>-1.514654</td>\n",
       "      <td>...</td>\n",
       "      <td>0.247998</td>\n",
       "      <td>0.771679</td>\n",
       "      <td>0.909412</td>\n",
       "      <td>-0.689281</td>\n",
       "      <td>-0.327642</td>\n",
       "      <td>-0.139097</td>\n",
       "      <td>-0.055353</td>\n",
       "      <td>-0.059752</td>\n",
       "      <td>378.66</td>\n",
       "      <td>0</td>\n",
       "    </tr>\n",
       "    <tr>\n",
       "      <th>3</th>\n",
       "      <td>1.0</td>\n",
       "      <td>-0.966272</td>\n",
       "      <td>-0.185226</td>\n",
       "      <td>1.792993</td>\n",
       "      <td>-0.863291</td>\n",
       "      <td>-0.010309</td>\n",
       "      <td>1.247203</td>\n",
       "      <td>0.237609</td>\n",
       "      <td>0.377436</td>\n",
       "      <td>-1.387024</td>\n",
       "      <td>...</td>\n",
       "      <td>-0.108300</td>\n",
       "      <td>0.005274</td>\n",
       "      <td>-0.190321</td>\n",
       "      <td>-1.175575</td>\n",
       "      <td>0.647376</td>\n",
       "      <td>-0.221929</td>\n",
       "      <td>0.062723</td>\n",
       "      <td>0.061458</td>\n",
       "      <td>123.50</td>\n",
       "      <td>0</td>\n",
       "    </tr>\n",
       "    <tr>\n",
       "      <th>4</th>\n",
       "      <td>2.0</td>\n",
       "      <td>-1.158233</td>\n",
       "      <td>0.877737</td>\n",
       "      <td>1.548718</td>\n",
       "      <td>0.403034</td>\n",
       "      <td>-0.407193</td>\n",
       "      <td>0.095921</td>\n",
       "      <td>0.592941</td>\n",
       "      <td>-0.270533</td>\n",
       "      <td>0.817739</td>\n",
       "      <td>...</td>\n",
       "      <td>-0.009431</td>\n",
       "      <td>0.798278</td>\n",
       "      <td>-0.137458</td>\n",
       "      <td>0.141267</td>\n",
       "      <td>-0.206010</td>\n",
       "      <td>0.502292</td>\n",
       "      <td>0.219422</td>\n",
       "      <td>0.215153</td>\n",
       "      <td>69.99</td>\n",
       "      <td>0</td>\n",
       "    </tr>\n",
       "  </tbody>\n",
       "</table>\n",
       "<p>5 rows × 31 columns</p>\n",
       "</div>"
      ],
      "text/plain": [
       "   Time        V1        V2        V3        V4        V5        V6        V7  \\\n",
       "0   0.0 -1.359807 -0.072781  2.536347  1.378155 -0.338321  0.462388  0.239599   \n",
       "1   0.0  1.191857  0.266151  0.166480  0.448154  0.060018 -0.082361 -0.078803   \n",
       "2   1.0 -1.358354 -1.340163  1.773209  0.379780 -0.503198  1.800499  0.791461   \n",
       "3   1.0 -0.966272 -0.185226  1.792993 -0.863291 -0.010309  1.247203  0.237609   \n",
       "4   2.0 -1.158233  0.877737  1.548718  0.403034 -0.407193  0.095921  0.592941   \n",
       "\n",
       "         V8        V9  ...       V21       V22       V23       V24       V25  \\\n",
       "0  0.098698  0.363787  ... -0.018307  0.277838 -0.110474  0.066928  0.128539   \n",
       "1  0.085102 -0.255425  ... -0.225775 -0.638672  0.101288 -0.339846  0.167170   \n",
       "2  0.247676 -1.514654  ...  0.247998  0.771679  0.909412 -0.689281 -0.327642   \n",
       "3  0.377436 -1.387024  ... -0.108300  0.005274 -0.190321 -1.175575  0.647376   \n",
       "4 -0.270533  0.817739  ... -0.009431  0.798278 -0.137458  0.141267 -0.206010   \n",
       "\n",
       "        V26       V27       V28  Amount  Class  \n",
       "0 -0.189115  0.133558 -0.021053  149.62      0  \n",
       "1  0.125895 -0.008983  0.014724    2.69      0  \n",
       "2 -0.139097 -0.055353 -0.059752  378.66      0  \n",
       "3 -0.221929  0.062723  0.061458  123.50      0  \n",
       "4  0.502292  0.219422  0.215153   69.99      0  \n",
       "\n",
       "[5 rows x 31 columns]"
      ]
     },
     "execution_count": 3,
     "metadata": {},
     "output_type": "execute_result"
    }
   ],
   "source": [
    "df.head()"
   ]
  },
  {
   "cell_type": "code",
   "execution_count": 4,
   "metadata": {},
   "outputs": [
    {
     "data": {
      "text/plain": [
       "(284807, 31)"
      ]
     },
     "execution_count": 4,
     "metadata": {},
     "output_type": "execute_result"
    }
   ],
   "source": [
    "df.shape"
   ]
  },
  {
   "cell_type": "code",
   "execution_count": 5,
   "metadata": {},
   "outputs": [
    {
     "data": {
      "text/plain": [
       "Index(['Time', 'V1', 'V2', 'V3', 'V4', 'V5', 'V6', 'V7', 'V8', 'V9', 'V10',\n",
       "       'V11', 'V12', 'V13', 'V14', 'V15', 'V16', 'V17', 'V18', 'V19', 'V20',\n",
       "       'V21', 'V22', 'V23', 'V24', 'V25', 'V26', 'V27', 'V28', 'Amount',\n",
       "       'Class'],\n",
       "      dtype='object')"
      ]
     },
     "execution_count": 5,
     "metadata": {},
     "output_type": "execute_result"
    }
   ],
   "source": [
    "df.columns"
   ]
  },
  {
   "cell_type": "code",
   "execution_count": 6,
   "metadata": {},
   "outputs": [
    {
     "data": {
      "text/html": [
       "<div>\n",
       "<style scoped>\n",
       "    .dataframe tbody tr th:only-of-type {\n",
       "        vertical-align: middle;\n",
       "    }\n",
       "\n",
       "    .dataframe tbody tr th {\n",
       "        vertical-align: top;\n",
       "    }\n",
       "\n",
       "    .dataframe thead th {\n",
       "        text-align: right;\n",
       "    }\n",
       "</style>\n",
       "<table border=\"1\" class=\"dataframe\">\n",
       "  <thead>\n",
       "    <tr style=\"text-align: right;\">\n",
       "      <th></th>\n",
       "      <th>Time</th>\n",
       "      <th>V1</th>\n",
       "      <th>V2</th>\n",
       "      <th>V3</th>\n",
       "      <th>V4</th>\n",
       "      <th>V5</th>\n",
       "      <th>V6</th>\n",
       "      <th>V7</th>\n",
       "      <th>V8</th>\n",
       "      <th>V9</th>\n",
       "      <th>...</th>\n",
       "      <th>V21</th>\n",
       "      <th>V22</th>\n",
       "      <th>V23</th>\n",
       "      <th>V24</th>\n",
       "      <th>V25</th>\n",
       "      <th>V26</th>\n",
       "      <th>V27</th>\n",
       "      <th>V28</th>\n",
       "      <th>Amount</th>\n",
       "      <th>Class</th>\n",
       "    </tr>\n",
       "  </thead>\n",
       "  <tbody>\n",
       "    <tr>\n",
       "      <th>count</th>\n",
       "      <td>284807.000000</td>\n",
       "      <td>2.848070e+05</td>\n",
       "      <td>2.848070e+05</td>\n",
       "      <td>2.848070e+05</td>\n",
       "      <td>2.848070e+05</td>\n",
       "      <td>2.848070e+05</td>\n",
       "      <td>2.848070e+05</td>\n",
       "      <td>2.848070e+05</td>\n",
       "      <td>2.848070e+05</td>\n",
       "      <td>2.848070e+05</td>\n",
       "      <td>...</td>\n",
       "      <td>2.848070e+05</td>\n",
       "      <td>2.848070e+05</td>\n",
       "      <td>2.848070e+05</td>\n",
       "      <td>2.848070e+05</td>\n",
       "      <td>2.848070e+05</td>\n",
       "      <td>2.848070e+05</td>\n",
       "      <td>2.848070e+05</td>\n",
       "      <td>2.848070e+05</td>\n",
       "      <td>284807.000000</td>\n",
       "      <td>284807.000000</td>\n",
       "    </tr>\n",
       "    <tr>\n",
       "      <th>mean</th>\n",
       "      <td>94813.859575</td>\n",
       "      <td>3.919560e-15</td>\n",
       "      <td>5.688174e-16</td>\n",
       "      <td>-8.769071e-15</td>\n",
       "      <td>2.782312e-15</td>\n",
       "      <td>-1.552563e-15</td>\n",
       "      <td>2.010663e-15</td>\n",
       "      <td>-1.694249e-15</td>\n",
       "      <td>-1.927028e-16</td>\n",
       "      <td>-3.137024e-15</td>\n",
       "      <td>...</td>\n",
       "      <td>1.537294e-16</td>\n",
       "      <td>7.959909e-16</td>\n",
       "      <td>5.367590e-16</td>\n",
       "      <td>4.458112e-15</td>\n",
       "      <td>1.453003e-15</td>\n",
       "      <td>1.699104e-15</td>\n",
       "      <td>-3.660161e-16</td>\n",
       "      <td>-1.206049e-16</td>\n",
       "      <td>88.349619</td>\n",
       "      <td>0.001727</td>\n",
       "    </tr>\n",
       "    <tr>\n",
       "      <th>std</th>\n",
       "      <td>47488.145955</td>\n",
       "      <td>1.958696e+00</td>\n",
       "      <td>1.651309e+00</td>\n",
       "      <td>1.516255e+00</td>\n",
       "      <td>1.415869e+00</td>\n",
       "      <td>1.380247e+00</td>\n",
       "      <td>1.332271e+00</td>\n",
       "      <td>1.237094e+00</td>\n",
       "      <td>1.194353e+00</td>\n",
       "      <td>1.098632e+00</td>\n",
       "      <td>...</td>\n",
       "      <td>7.345240e-01</td>\n",
       "      <td>7.257016e-01</td>\n",
       "      <td>6.244603e-01</td>\n",
       "      <td>6.056471e-01</td>\n",
       "      <td>5.212781e-01</td>\n",
       "      <td>4.822270e-01</td>\n",
       "      <td>4.036325e-01</td>\n",
       "      <td>3.300833e-01</td>\n",
       "      <td>250.120109</td>\n",
       "      <td>0.041527</td>\n",
       "    </tr>\n",
       "    <tr>\n",
       "      <th>min</th>\n",
       "      <td>0.000000</td>\n",
       "      <td>-5.640751e+01</td>\n",
       "      <td>-7.271573e+01</td>\n",
       "      <td>-4.832559e+01</td>\n",
       "      <td>-5.683171e+00</td>\n",
       "      <td>-1.137433e+02</td>\n",
       "      <td>-2.616051e+01</td>\n",
       "      <td>-4.355724e+01</td>\n",
       "      <td>-7.321672e+01</td>\n",
       "      <td>-1.343407e+01</td>\n",
       "      <td>...</td>\n",
       "      <td>-3.483038e+01</td>\n",
       "      <td>-1.093314e+01</td>\n",
       "      <td>-4.480774e+01</td>\n",
       "      <td>-2.836627e+00</td>\n",
       "      <td>-1.029540e+01</td>\n",
       "      <td>-2.604551e+00</td>\n",
       "      <td>-2.256568e+01</td>\n",
       "      <td>-1.543008e+01</td>\n",
       "      <td>0.000000</td>\n",
       "      <td>0.000000</td>\n",
       "    </tr>\n",
       "    <tr>\n",
       "      <th>25%</th>\n",
       "      <td>54201.500000</td>\n",
       "      <td>-9.203734e-01</td>\n",
       "      <td>-5.985499e-01</td>\n",
       "      <td>-8.903648e-01</td>\n",
       "      <td>-8.486401e-01</td>\n",
       "      <td>-6.915971e-01</td>\n",
       "      <td>-7.682956e-01</td>\n",
       "      <td>-5.540759e-01</td>\n",
       "      <td>-2.086297e-01</td>\n",
       "      <td>-6.430976e-01</td>\n",
       "      <td>...</td>\n",
       "      <td>-2.283949e-01</td>\n",
       "      <td>-5.423504e-01</td>\n",
       "      <td>-1.618463e-01</td>\n",
       "      <td>-3.545861e-01</td>\n",
       "      <td>-3.171451e-01</td>\n",
       "      <td>-3.269839e-01</td>\n",
       "      <td>-7.083953e-02</td>\n",
       "      <td>-5.295979e-02</td>\n",
       "      <td>5.600000</td>\n",
       "      <td>0.000000</td>\n",
       "    </tr>\n",
       "    <tr>\n",
       "      <th>50%</th>\n",
       "      <td>84692.000000</td>\n",
       "      <td>1.810880e-02</td>\n",
       "      <td>6.548556e-02</td>\n",
       "      <td>1.798463e-01</td>\n",
       "      <td>-1.984653e-02</td>\n",
       "      <td>-5.433583e-02</td>\n",
       "      <td>-2.741871e-01</td>\n",
       "      <td>4.010308e-02</td>\n",
       "      <td>2.235804e-02</td>\n",
       "      <td>-5.142873e-02</td>\n",
       "      <td>...</td>\n",
       "      <td>-2.945017e-02</td>\n",
       "      <td>6.781943e-03</td>\n",
       "      <td>-1.119293e-02</td>\n",
       "      <td>4.097606e-02</td>\n",
       "      <td>1.659350e-02</td>\n",
       "      <td>-5.213911e-02</td>\n",
       "      <td>1.342146e-03</td>\n",
       "      <td>1.124383e-02</td>\n",
       "      <td>22.000000</td>\n",
       "      <td>0.000000</td>\n",
       "    </tr>\n",
       "    <tr>\n",
       "      <th>75%</th>\n",
       "      <td>139320.500000</td>\n",
       "      <td>1.315642e+00</td>\n",
       "      <td>8.037239e-01</td>\n",
       "      <td>1.027196e+00</td>\n",
       "      <td>7.433413e-01</td>\n",
       "      <td>6.119264e-01</td>\n",
       "      <td>3.985649e-01</td>\n",
       "      <td>5.704361e-01</td>\n",
       "      <td>3.273459e-01</td>\n",
       "      <td>5.971390e-01</td>\n",
       "      <td>...</td>\n",
       "      <td>1.863772e-01</td>\n",
       "      <td>5.285536e-01</td>\n",
       "      <td>1.476421e-01</td>\n",
       "      <td>4.395266e-01</td>\n",
       "      <td>3.507156e-01</td>\n",
       "      <td>2.409522e-01</td>\n",
       "      <td>9.104512e-02</td>\n",
       "      <td>7.827995e-02</td>\n",
       "      <td>77.165000</td>\n",
       "      <td>0.000000</td>\n",
       "    </tr>\n",
       "    <tr>\n",
       "      <th>max</th>\n",
       "      <td>172792.000000</td>\n",
       "      <td>2.454930e+00</td>\n",
       "      <td>2.205773e+01</td>\n",
       "      <td>9.382558e+00</td>\n",
       "      <td>1.687534e+01</td>\n",
       "      <td>3.480167e+01</td>\n",
       "      <td>7.330163e+01</td>\n",
       "      <td>1.205895e+02</td>\n",
       "      <td>2.000721e+01</td>\n",
       "      <td>1.559499e+01</td>\n",
       "      <td>...</td>\n",
       "      <td>2.720284e+01</td>\n",
       "      <td>1.050309e+01</td>\n",
       "      <td>2.252841e+01</td>\n",
       "      <td>4.584549e+00</td>\n",
       "      <td>7.519589e+00</td>\n",
       "      <td>3.517346e+00</td>\n",
       "      <td>3.161220e+01</td>\n",
       "      <td>3.384781e+01</td>\n",
       "      <td>25691.160000</td>\n",
       "      <td>1.000000</td>\n",
       "    </tr>\n",
       "  </tbody>\n",
       "</table>\n",
       "<p>8 rows × 31 columns</p>\n",
       "</div>"
      ],
      "text/plain": [
       "                Time            V1            V2            V3            V4  \\\n",
       "count  284807.000000  2.848070e+05  2.848070e+05  2.848070e+05  2.848070e+05   \n",
       "mean    94813.859575  3.919560e-15  5.688174e-16 -8.769071e-15  2.782312e-15   \n",
       "std     47488.145955  1.958696e+00  1.651309e+00  1.516255e+00  1.415869e+00   \n",
       "min         0.000000 -5.640751e+01 -7.271573e+01 -4.832559e+01 -5.683171e+00   \n",
       "25%     54201.500000 -9.203734e-01 -5.985499e-01 -8.903648e-01 -8.486401e-01   \n",
       "50%     84692.000000  1.810880e-02  6.548556e-02  1.798463e-01 -1.984653e-02   \n",
       "75%    139320.500000  1.315642e+00  8.037239e-01  1.027196e+00  7.433413e-01   \n",
       "max    172792.000000  2.454930e+00  2.205773e+01  9.382558e+00  1.687534e+01   \n",
       "\n",
       "                 V5            V6            V7            V8            V9  \\\n",
       "count  2.848070e+05  2.848070e+05  2.848070e+05  2.848070e+05  2.848070e+05   \n",
       "mean  -1.552563e-15  2.010663e-15 -1.694249e-15 -1.927028e-16 -3.137024e-15   \n",
       "std    1.380247e+00  1.332271e+00  1.237094e+00  1.194353e+00  1.098632e+00   \n",
       "min   -1.137433e+02 -2.616051e+01 -4.355724e+01 -7.321672e+01 -1.343407e+01   \n",
       "25%   -6.915971e-01 -7.682956e-01 -5.540759e-01 -2.086297e-01 -6.430976e-01   \n",
       "50%   -5.433583e-02 -2.741871e-01  4.010308e-02  2.235804e-02 -5.142873e-02   \n",
       "75%    6.119264e-01  3.985649e-01  5.704361e-01  3.273459e-01  5.971390e-01   \n",
       "max    3.480167e+01  7.330163e+01  1.205895e+02  2.000721e+01  1.559499e+01   \n",
       "\n",
       "       ...           V21           V22           V23           V24  \\\n",
       "count  ...  2.848070e+05  2.848070e+05  2.848070e+05  2.848070e+05   \n",
       "mean   ...  1.537294e-16  7.959909e-16  5.367590e-16  4.458112e-15   \n",
       "std    ...  7.345240e-01  7.257016e-01  6.244603e-01  6.056471e-01   \n",
       "min    ... -3.483038e+01 -1.093314e+01 -4.480774e+01 -2.836627e+00   \n",
       "25%    ... -2.283949e-01 -5.423504e-01 -1.618463e-01 -3.545861e-01   \n",
       "50%    ... -2.945017e-02  6.781943e-03 -1.119293e-02  4.097606e-02   \n",
       "75%    ...  1.863772e-01  5.285536e-01  1.476421e-01  4.395266e-01   \n",
       "max    ...  2.720284e+01  1.050309e+01  2.252841e+01  4.584549e+00   \n",
       "\n",
       "                V25           V26           V27           V28         Amount  \\\n",
       "count  2.848070e+05  2.848070e+05  2.848070e+05  2.848070e+05  284807.000000   \n",
       "mean   1.453003e-15  1.699104e-15 -3.660161e-16 -1.206049e-16      88.349619   \n",
       "std    5.212781e-01  4.822270e-01  4.036325e-01  3.300833e-01     250.120109   \n",
       "min   -1.029540e+01 -2.604551e+00 -2.256568e+01 -1.543008e+01       0.000000   \n",
       "25%   -3.171451e-01 -3.269839e-01 -7.083953e-02 -5.295979e-02       5.600000   \n",
       "50%    1.659350e-02 -5.213911e-02  1.342146e-03  1.124383e-02      22.000000   \n",
       "75%    3.507156e-01  2.409522e-01  9.104512e-02  7.827995e-02      77.165000   \n",
       "max    7.519589e+00  3.517346e+00  3.161220e+01  3.384781e+01   25691.160000   \n",
       "\n",
       "               Class  \n",
       "count  284807.000000  \n",
       "mean        0.001727  \n",
       "std         0.041527  \n",
       "min         0.000000  \n",
       "25%         0.000000  \n",
       "50%         0.000000  \n",
       "75%         0.000000  \n",
       "max         1.000000  \n",
       "\n",
       "[8 rows x 31 columns]"
      ]
     },
     "execution_count": 6,
     "metadata": {},
     "output_type": "execute_result"
    }
   ],
   "source": [
    "df.describe()"
   ]
  },
  {
   "cell_type": "code",
   "execution_count": 7,
   "metadata": {},
   "outputs": [
    {
     "name": "stdout",
     "output_type": "stream",
     "text": [
      "<class 'pandas.core.frame.DataFrame'>\n",
      "RangeIndex: 284807 entries, 0 to 284806\n",
      "Data columns (total 31 columns):\n",
      " #   Column  Non-Null Count   Dtype  \n",
      "---  ------  --------------   -----  \n",
      " 0   Time    284807 non-null  float64\n",
      " 1   V1      284807 non-null  float64\n",
      " 2   V2      284807 non-null  float64\n",
      " 3   V3      284807 non-null  float64\n",
      " 4   V4      284807 non-null  float64\n",
      " 5   V5      284807 non-null  float64\n",
      " 6   V6      284807 non-null  float64\n",
      " 7   V7      284807 non-null  float64\n",
      " 8   V8      284807 non-null  float64\n",
      " 9   V9      284807 non-null  float64\n",
      " 10  V10     284807 non-null  float64\n",
      " 11  V11     284807 non-null  float64\n",
      " 12  V12     284807 non-null  float64\n",
      " 13  V13     284807 non-null  float64\n",
      " 14  V14     284807 non-null  float64\n",
      " 15  V15     284807 non-null  float64\n",
      " 16  V16     284807 non-null  float64\n",
      " 17  V17     284807 non-null  float64\n",
      " 18  V18     284807 non-null  float64\n",
      " 19  V19     284807 non-null  float64\n",
      " 20  V20     284807 non-null  float64\n",
      " 21  V21     284807 non-null  float64\n",
      " 22  V22     284807 non-null  float64\n",
      " 23  V23     284807 non-null  float64\n",
      " 24  V24     284807 non-null  float64\n",
      " 25  V25     284807 non-null  float64\n",
      " 26  V26     284807 non-null  float64\n",
      " 27  V27     284807 non-null  float64\n",
      " 28  V28     284807 non-null  float64\n",
      " 29  Amount  284807 non-null  float64\n",
      " 30  Class   284807 non-null  int64  \n",
      "dtypes: float64(30), int64(1)\n",
      "memory usage: 67.4 MB\n"
     ]
    }
   ],
   "source": [
    "df.info()"
   ]
  },
  {
   "cell_type": "code",
   "execution_count": 8,
   "metadata": {},
   "outputs": [
    {
     "data": {
      "text/plain": [
       "Time      0\n",
       "V1        0\n",
       "V2        0\n",
       "V3        0\n",
       "V4        0\n",
       "V5        0\n",
       "V6        0\n",
       "V7        0\n",
       "V8        0\n",
       "V9        0\n",
       "V10       0\n",
       "V11       0\n",
       "V12       0\n",
       "V13       0\n",
       "V14       0\n",
       "V15       0\n",
       "V16       0\n",
       "V17       0\n",
       "V18       0\n",
       "V19       0\n",
       "V20       0\n",
       "V21       0\n",
       "V22       0\n",
       "V23       0\n",
       "V24       0\n",
       "V25       0\n",
       "V26       0\n",
       "V27       0\n",
       "V28       0\n",
       "Amount    0\n",
       "Class     0\n",
       "dtype: int64"
      ]
     },
     "execution_count": 8,
     "metadata": {},
     "output_type": "execute_result"
    }
   ],
   "source": [
    "#checking if there are missing data \n",
    "df.isnull().sum()"
   ]
  },
  {
   "cell_type": "code",
   "execution_count": 9,
   "metadata": {},
   "outputs": [
    {
     "name": "stdout",
     "output_type": "stream",
     "text": [
      "OutlierFraction is : 0.17304750013189596\n",
      "Valid Transactions: 284315\n",
      "Fraud Transactions: 492\n"
     ]
    }
   ],
   "source": [
    "# Determine number of fraud cases in dataset\n",
    "#valid transaction if Class = 0 and Fraud if Class = 1 \n",
    "valid = len(df[df['Class'] == 0])\n",
    "fraud= len(df[df['Class'] == 1])\n",
    "\n",
    "Outlier_Fraction = (fraud/valid)*100\n",
    "\n",
    "print('OutlierFraction is :' ,Outlier_Fraction) \n",
    "print('Valid Transactions:' , valid ) \n",
    "print('Fraud Transactions:' , fraud )"
   ]
  },
  {
   "cell_type": "code",
   "execution_count": 10,
   "metadata": {},
   "outputs": [
    {
     "name": "stdout",
     "output_type": "stream",
     "text": [
      "Amount details of valid transaction\n"
     ]
    },
    {
     "data": {
      "text/plain": [
       "count    284315.000000\n",
       "mean         88.291022\n",
       "std         250.105092\n",
       "min           0.000000\n",
       "25%           5.650000\n",
       "50%          22.000000\n",
       "75%          77.050000\n",
       "max       25691.160000\n",
       "Name: Amount, dtype: float64"
      ]
     },
     "execution_count": 10,
     "metadata": {},
     "output_type": "execute_result"
    }
   ],
   "source": [
    "print('Amount details of valid transaction')\n",
    "\n",
    "valid_info= df[(df['Class']==0)]\n",
    "valid_info.Amount.describe()"
   ]
  },
  {
   "cell_type": "code",
   "execution_count": 11,
   "metadata": {},
   "outputs": [
    {
     "name": "stdout",
     "output_type": "stream",
     "text": [
      "Amount details of fraud transaction\n"
     ]
    },
    {
     "data": {
      "text/plain": [
       "count     492.000000\n",
       "mean      122.211321\n",
       "std       256.683288\n",
       "min         0.000000\n",
       "25%         1.000000\n",
       "50%         9.250000\n",
       "75%       105.890000\n",
       "max      2125.870000\n",
       "Name: Amount, dtype: float64"
      ]
     },
     "execution_count": 11,
     "metadata": {},
     "output_type": "execute_result"
    }
   ],
   "source": [
    "print('Amount details of fraud transaction')\n",
    "\n",
    "fraud_info = df[df['Class'] ==1]\n",
    "fraud_info.Amount.describe()"
   ]
  },
  {
   "cell_type": "code",
   "execution_count": 12,
   "metadata": {},
   "outputs": [
    {
     "data": {
      "text/plain": [
       "Text(0, 0.5, 'Frequency')"
      ]
     },
     "execution_count": 12,
     "metadata": {},
     "output_type": "execute_result"
    },
    {
     "data": {
      "image/png": "[encoded data removed]",
      "text/plain": [
       "<Figure size 432x288 with 1 Axes>"
      ]
     },
     "metadata": {
      "needs_background": "light"
     },
     "output_type": "display_data"
    }
   ],
   "source": [
    "#Checking for the fraud and valid trasactions in a graph\n",
    "\n",
    "count_classes = pd.value_counts(df['Class'], sort = True ).sort_index()\n",
    "count_classes.plot(kind = 'bar' ,rot = 0 ,colormap ='plasma')\n",
    "\n",
    "plt.title(\"Fraud Class histogram\")\n",
    "plt.xlabel(\"Class\")\n",
    "plt.ylabel(\"Frequency\")"
   ]
  },
  {
   "cell_type": "code",
   "execution_count": 13,
   "metadata": {},
   "outputs": [
    {
     "data": {
      "image/png": "[encoded data removed]",
      "text/plain": [
       "<Figure size 1440x936 with 2 Axes>"
      ]
     },
     "metadata": {
      "needs_background": "light"
     },
     "output_type": "display_data"
    }
   ],
   "source": [
    "# Correlation matrix of the original dataset\n",
    "\n",
    "corrmat = df.corr() \n",
    "fig = plt.figure(figsize = (20, 13)) \n",
    "sns.heatmap(corrmat, cmap='viridis', vmax = 1, vmin=-0.5 , square = True , linewidths= 0.05)\n",
    "plt.show() "
   ]
  },
  {
   "cell_type": "code",
   "execution_count": 14,
   "metadata": {},
   "outputs": [
    {
     "data": {
      "image/png": "[encoded data removed]",
      "text/plain": [
       "<Figure size 432x288 with 1 Axes>"
      ]
     },
     "metadata": {
      "needs_background": "light"
     },
     "output_type": "display_data"
    }
   ],
   "source": [
    "#Distribution via Time \n",
    "\n",
    "sns.kdeplot(df['Time'])\n",
    "plt.show()"
   ]
  },
  {
   "cell_type": "code",
   "execution_count": 15,
   "metadata": {},
   "outputs": [
    {
     "data": {
      "image/png": "[encoded data removed]",
      "text/plain": [
       "<Figure size 432x288 with 1 Axes>"
      ]
     },
     "metadata": {
      "needs_background": "light"
     },
     "output_type": "display_data"
    }
   ],
   "source": [
    "sns.kdeplot(df['Amount'])\n",
    "plt.show()"
   ]
  },
  {
   "cell_type": "code",
   "execution_count": 16,
   "metadata": {},
   "outputs": [
    {
     "data": {
      "text/html": [
       "<div>\n",
       "<style scoped>\n",
       "    .dataframe tbody tr th:only-of-type {\n",
       "        vertical-align: middle;\n",
       "    }\n",
       "\n",
       "    .dataframe tbody tr th {\n",
       "        vertical-align: top;\n",
       "    }\n",
       "\n",
       "    .dataframe thead th {\n",
       "        text-align: right;\n",
       "    }\n",
       "</style>\n",
       "<table border=\"1\" class=\"dataframe\">\n",
       "  <thead>\n",
       "    <tr style=\"text-align: right;\">\n",
       "      <th></th>\n",
       "      <th>scaled_amount</th>\n",
       "      <th>scaled_time</th>\n",
       "      <th>V1</th>\n",
       "      <th>V2</th>\n",
       "      <th>V3</th>\n",
       "      <th>V4</th>\n",
       "      <th>V5</th>\n",
       "      <th>V6</th>\n",
       "      <th>V7</th>\n",
       "      <th>V8</th>\n",
       "      <th>...</th>\n",
       "      <th>V20</th>\n",
       "      <th>V21</th>\n",
       "      <th>V22</th>\n",
       "      <th>V23</th>\n",
       "      <th>V24</th>\n",
       "      <th>V25</th>\n",
       "      <th>V26</th>\n",
       "      <th>V27</th>\n",
       "      <th>V28</th>\n",
       "      <th>Class</th>\n",
       "    </tr>\n",
       "  </thead>\n",
       "  <tbody>\n",
       "    <tr>\n",
       "      <th>0</th>\n",
       "      <td>0.244964</td>\n",
       "      <td>-1.996583</td>\n",
       "      <td>-1.359807</td>\n",
       "      <td>-0.072781</td>\n",
       "      <td>2.536347</td>\n",
       "      <td>1.378155</td>\n",
       "      <td>-0.338321</td>\n",
       "      <td>0.462388</td>\n",
       "      <td>0.239599</td>\n",
       "      <td>0.098698</td>\n",
       "      <td>...</td>\n",
       "      <td>0.251412</td>\n",
       "      <td>-0.018307</td>\n",
       "      <td>0.277838</td>\n",
       "      <td>-0.110474</td>\n",
       "      <td>0.066928</td>\n",
       "      <td>0.128539</td>\n",
       "      <td>-0.189115</td>\n",
       "      <td>0.133558</td>\n",
       "      <td>-0.021053</td>\n",
       "      <td>0</td>\n",
       "    </tr>\n",
       "    <tr>\n",
       "      <th>1</th>\n",
       "      <td>-0.342475</td>\n",
       "      <td>-1.996583</td>\n",
       "      <td>1.191857</td>\n",
       "      <td>0.266151</td>\n",
       "      <td>0.166480</td>\n",
       "      <td>0.448154</td>\n",
       "      <td>0.060018</td>\n",
       "      <td>-0.082361</td>\n",
       "      <td>-0.078803</td>\n",
       "      <td>0.085102</td>\n",
       "      <td>...</td>\n",
       "      <td>-0.069083</td>\n",
       "      <td>-0.225775</td>\n",
       "      <td>-0.638672</td>\n",
       "      <td>0.101288</td>\n",
       "      <td>-0.339846</td>\n",
       "      <td>0.167170</td>\n",
       "      <td>0.125895</td>\n",
       "      <td>-0.008983</td>\n",
       "      <td>0.014724</td>\n",
       "      <td>0</td>\n",
       "    </tr>\n",
       "    <tr>\n",
       "      <th>2</th>\n",
       "      <td>1.160686</td>\n",
       "      <td>-1.996562</td>\n",
       "      <td>-1.358354</td>\n",
       "      <td>-1.340163</td>\n",
       "      <td>1.773209</td>\n",
       "      <td>0.379780</td>\n",
       "      <td>-0.503198</td>\n",
       "      <td>1.800499</td>\n",
       "      <td>0.791461</td>\n",
       "      <td>0.247676</td>\n",
       "      <td>...</td>\n",
       "      <td>0.524980</td>\n",
       "      <td>0.247998</td>\n",
       "      <td>0.771679</td>\n",
       "      <td>0.909412</td>\n",
       "      <td>-0.689281</td>\n",
       "      <td>-0.327642</td>\n",
       "      <td>-0.139097</td>\n",
       "      <td>-0.055353</td>\n",
       "      <td>-0.059752</td>\n",
       "      <td>0</td>\n",
       "    </tr>\n",
       "    <tr>\n",
       "      <th>3</th>\n",
       "      <td>0.140534</td>\n",
       "      <td>-1.996562</td>\n",
       "      <td>-0.966272</td>\n",
       "      <td>-0.185226</td>\n",
       "      <td>1.792993</td>\n",
       "      <td>-0.863291</td>\n",
       "      <td>-0.010309</td>\n",
       "      <td>1.247203</td>\n",
       "      <td>0.237609</td>\n",
       "      <td>0.377436</td>\n",
       "      <td>...</td>\n",
       "      <td>-0.208038</td>\n",
       "      <td>-0.108300</td>\n",
       "      <td>0.005274</td>\n",
       "      <td>-0.190321</td>\n",
       "      <td>-1.175575</td>\n",
       "      <td>0.647376</td>\n",
       "      <td>-0.221929</td>\n",
       "      <td>0.062723</td>\n",
       "      <td>0.061458</td>\n",
       "      <td>0</td>\n",
       "    </tr>\n",
       "    <tr>\n",
       "      <th>4</th>\n",
       "      <td>-0.073403</td>\n",
       "      <td>-1.996541</td>\n",
       "      <td>-1.158233</td>\n",
       "      <td>0.877737</td>\n",
       "      <td>1.548718</td>\n",
       "      <td>0.403034</td>\n",
       "      <td>-0.407193</td>\n",
       "      <td>0.095921</td>\n",
       "      <td>0.592941</td>\n",
       "      <td>-0.270533</td>\n",
       "      <td>...</td>\n",
       "      <td>0.408542</td>\n",
       "      <td>-0.009431</td>\n",
       "      <td>0.798278</td>\n",
       "      <td>-0.137458</td>\n",
       "      <td>0.141267</td>\n",
       "      <td>-0.206010</td>\n",
       "      <td>0.502292</td>\n",
       "      <td>0.219422</td>\n",
       "      <td>0.215153</td>\n",
       "      <td>0</td>\n",
       "    </tr>\n",
       "  </tbody>\n",
       "</table>\n",
       "<p>5 rows × 31 columns</p>\n",
       "</div>"
      ],
      "text/plain": [
       "   scaled_amount  scaled_time        V1        V2        V3        V4  \\\n",
       "0       0.244964    -1.996583 -1.359807 -0.072781  2.536347  1.378155   \n",
       "1      -0.342475    -1.996583  1.191857  0.266151  0.166480  0.448154   \n",
       "2       1.160686    -1.996562 -1.358354 -1.340163  1.773209  0.379780   \n",
       "3       0.140534    -1.996562 -0.966272 -0.185226  1.792993 -0.863291   \n",
       "4      -0.073403    -1.996541 -1.158233  0.877737  1.548718  0.403034   \n",
       "\n",
       "         V5        V6        V7        V8  ...       V20       V21       V22  \\\n",
       "0 -0.338321  0.462388  0.239599  0.098698  ...  0.251412 -0.018307  0.277838   \n",
       "1  0.060018 -0.082361 -0.078803  0.085102  ... -0.069083 -0.225775 -0.638672   \n",
       "2 -0.503198  1.800499  0.791461  0.247676  ...  0.524980  0.247998  0.771679   \n",
       "3 -0.010309  1.247203  0.237609  0.377436  ... -0.208038 -0.108300  0.005274   \n",
       "4 -0.407193  0.095921  0.592941 -0.270533  ...  0.408542 -0.009431  0.798278   \n",
       "\n",
       "        V23       V24       V25       V26       V27       V28  Class  \n",
       "0 -0.110474  0.066928  0.128539 -0.189115  0.133558 -0.021053      0  \n",
       "1  0.101288 -0.339846  0.167170  0.125895 -0.008983  0.014724      0  \n",
       "2  0.909412 -0.689281 -0.327642 -0.139097 -0.055353 -0.059752      0  \n",
       "3 -0.190321 -1.175575  0.647376 -0.221929  0.062723  0.061458      0  \n",
       "4 -0.137458  0.141267 -0.206010  0.502292  0.219422  0.215153      0  \n",
       "\n",
       "[5 rows x 31 columns]"
      ]
     },
     "execution_count": 16,
     "metadata": {},
     "output_type": "execute_result"
    }
   ],
   "source": [
    "from sklearn.preprocessing import StandardScaler\n",
    "\n",
    "stc = StandardScaler()\n",
    "\n",
    "df['scaled_amount'] = stc.fit_transform(df['Amount'].values.reshape(-1,1))\n",
    "df['scaled_time'] = stc.fit_transform(df['Time'].values.reshape(-1,1))\n",
    "\n",
    "df.drop(['Amount' , 'Time'] , axis = 1 , inplace = True )\n",
    "\n",
    "scaled_amount = df['scaled_amount']\n",
    "scaled_time = df['scaled_time']\n",
    "\n",
    "df.drop(['scaled_amount' , 'scaled_time'] , axis = 1 , inplace = True )\n",
    "\n",
    "df.insert(0 , 'scaled_amount' , scaled_amount)\n",
    "df.insert(1 , 'scaled_time' , scaled_time)\n",
    "\n",
    "df.head()"
   ]
  },
  {
   "cell_type": "code",
   "execution_count": 17,
   "metadata": {},
   "outputs": [
    {
     "data": {
      "text/html": [
       "<div>\n",
       "<style scoped>\n",
       "    .dataframe tbody tr th:only-of-type {\n",
       "        vertical-align: middle;\n",
       "    }\n",
       "\n",
       "    .dataframe tbody tr th {\n",
       "        vertical-align: top;\n",
       "    }\n",
       "\n",
       "    .dataframe thead th {\n",
       "        text-align: right;\n",
       "    }\n",
       "</style>\n",
       "<table border=\"1\" class=\"dataframe\">\n",
       "  <thead>\n",
       "    <tr style=\"text-align: right;\">\n",
       "      <th></th>\n",
       "      <th>scaled_amount</th>\n",
       "      <th>scaled_time</th>\n",
       "      <th>V1</th>\n",
       "      <th>V2</th>\n",
       "      <th>V3</th>\n",
       "      <th>V4</th>\n",
       "      <th>V5</th>\n",
       "      <th>V6</th>\n",
       "      <th>V7</th>\n",
       "      <th>V8</th>\n",
       "      <th>...</th>\n",
       "      <th>V20</th>\n",
       "      <th>V21</th>\n",
       "      <th>V22</th>\n",
       "      <th>V23</th>\n",
       "      <th>V24</th>\n",
       "      <th>V25</th>\n",
       "      <th>V26</th>\n",
       "      <th>V27</th>\n",
       "      <th>V28</th>\n",
       "      <th>Class</th>\n",
       "    </tr>\n",
       "  </thead>\n",
       "  <tbody>\n",
       "    <tr>\n",
       "      <th>57248</th>\n",
       "      <td>-0.322924</td>\n",
       "      <td>-0.989467</td>\n",
       "      <td>-0.887287</td>\n",
       "      <td>1.390002</td>\n",
       "      <td>1.219686</td>\n",
       "      <td>1.661425</td>\n",
       "      <td>1.009228</td>\n",
       "      <td>-0.733908</td>\n",
       "      <td>0.855829</td>\n",
       "      <td>0.000077</td>\n",
       "      <td>...</td>\n",
       "      <td>-0.268347</td>\n",
       "      <td>-0.083734</td>\n",
       "      <td>-0.346930</td>\n",
       "      <td>-0.050619</td>\n",
       "      <td>0.231044</td>\n",
       "      <td>-0.450760</td>\n",
       "      <td>-0.376205</td>\n",
       "      <td>0.034504</td>\n",
       "      <td>0.157775</td>\n",
       "      <td>1</td>\n",
       "    </tr>\n",
       "    <tr>\n",
       "      <th>70141</th>\n",
       "      <td>0.096355</td>\n",
       "      <td>-0.865204</td>\n",
       "      <td>-1.649279</td>\n",
       "      <td>1.263974</td>\n",
       "      <td>-1.050826</td>\n",
       "      <td>2.237991</td>\n",
       "      <td>-2.527889</td>\n",
       "      <td>-0.889940</td>\n",
       "      <td>-2.355254</td>\n",
       "      <td>0.854659</td>\n",
       "      <td>...</td>\n",
       "      <td>0.087406</td>\n",
       "      <td>0.679176</td>\n",
       "      <td>0.731907</td>\n",
       "      <td>0.333045</td>\n",
       "      <td>0.392505</td>\n",
       "      <td>-0.274197</td>\n",
       "      <td>0.802349</td>\n",
       "      <td>0.390809</td>\n",
       "      <td>0.112146</td>\n",
       "      <td>1</td>\n",
       "    </tr>\n",
       "    <tr>\n",
       "      <th>65377</th>\n",
       "      <td>0.890575</td>\n",
       "      <td>-0.910963</td>\n",
       "      <td>-0.839639</td>\n",
       "      <td>0.023506</td>\n",
       "      <td>1.118131</td>\n",
       "      <td>1.277901</td>\n",
       "      <td>-0.785059</td>\n",
       "      <td>0.491847</td>\n",
       "      <td>1.439515</td>\n",
       "      <td>0.128529</td>\n",
       "      <td>...</td>\n",
       "      <td>0.597160</td>\n",
       "      <td>0.449594</td>\n",
       "      <td>0.741227</td>\n",
       "      <td>0.577891</td>\n",
       "      <td>0.159979</td>\n",
       "      <td>-0.246670</td>\n",
       "      <td>-0.223565</td>\n",
       "      <td>0.067989</td>\n",
       "      <td>0.163037</td>\n",
       "      <td>0</td>\n",
       "    </tr>\n",
       "    <tr>\n",
       "      <th>263080</th>\n",
       "      <td>-0.349231</td>\n",
       "      <td>1.389342</td>\n",
       "      <td>2.132386</td>\n",
       "      <td>0.705608</td>\n",
       "      <td>-3.530759</td>\n",
       "      <td>0.514779</td>\n",
       "      <td>1.527175</td>\n",
       "      <td>-1.716268</td>\n",
       "      <td>1.132791</td>\n",
       "      <td>-0.574214</td>\n",
       "      <td>...</td>\n",
       "      <td>-0.211167</td>\n",
       "      <td>0.163739</td>\n",
       "      <td>0.703910</td>\n",
       "      <td>-0.245076</td>\n",
       "      <td>0.460049</td>\n",
       "      <td>0.920281</td>\n",
       "      <td>-0.216586</td>\n",
       "      <td>-0.026219</td>\n",
       "      <td>-0.025001</td>\n",
       "      <td>1</td>\n",
       "    </tr>\n",
       "    <tr>\n",
       "      <th>254395</th>\n",
       "      <td>-0.322884</td>\n",
       "      <td>1.303404</td>\n",
       "      <td>0.202402</td>\n",
       "      <td>1.176270</td>\n",
       "      <td>0.346379</td>\n",
       "      <td>2.882138</td>\n",
       "      <td>1.407133</td>\n",
       "      <td>-0.504355</td>\n",
       "      <td>1.438537</td>\n",
       "      <td>-0.395603</td>\n",
       "      <td>...</td>\n",
       "      <td>-0.206239</td>\n",
       "      <td>0.242560</td>\n",
       "      <td>0.841230</td>\n",
       "      <td>-0.370157</td>\n",
       "      <td>-0.026012</td>\n",
       "      <td>0.491954</td>\n",
       "      <td>0.234576</td>\n",
       "      <td>-0.279788</td>\n",
       "      <td>-0.331933</td>\n",
       "      <td>1</td>\n",
       "    </tr>\n",
       "  </tbody>\n",
       "</table>\n",
       "<p>5 rows × 31 columns</p>\n",
       "</div>"
      ],
      "text/plain": [
       "        scaled_amount  scaled_time        V1        V2        V3        V4  \\\n",
       "57248       -0.322924    -0.989467 -0.887287  1.390002  1.219686  1.661425   \n",
       "70141        0.096355    -0.865204 -1.649279  1.263974 -1.050826  2.237991   \n",
       "65377        0.890575    -0.910963 -0.839639  0.023506  1.118131  1.277901   \n",
       "263080      -0.349231     1.389342  2.132386  0.705608 -3.530759  0.514779   \n",
       "254395      -0.322884     1.303404  0.202402  1.176270  0.346379  2.882138   \n",
       "\n",
       "              V5        V6        V7        V8  ...       V20       V21  \\\n",
       "57248   1.009228 -0.733908  0.855829  0.000077  ... -0.268347 -0.083734   \n",
       "70141  -2.527889 -0.889940 -2.355254  0.854659  ...  0.087406  0.679176   \n",
       "65377  -0.785059  0.491847  1.439515  0.128529  ...  0.597160  0.449594   \n",
       "263080  1.527175 -1.716268  1.132791 -0.574214  ... -0.211167  0.163739   \n",
       "254395  1.407133 -0.504355  1.438537 -0.395603  ... -0.206239  0.242560   \n",
       "\n",
       "             V22       V23       V24       V25       V26       V27       V28  \\\n",
       "57248  -0.346930 -0.050619  0.231044 -0.450760 -0.376205  0.034504  0.157775   \n",
       "70141   0.731907  0.333045  0.392505 -0.274197  0.802349  0.390809  0.112146   \n",
       "65377   0.741227  0.577891  0.159979 -0.246670 -0.223565  0.067989  0.163037   \n",
       "263080  0.703910 -0.245076  0.460049  0.920281 -0.216586 -0.026219 -0.025001   \n",
       "254395  0.841230 -0.370157 -0.026012  0.491954  0.234576 -0.279788 -0.331933   \n",
       "\n",
       "        Class  \n",
       "57248       1  \n",
       "70141       1  \n",
       "65377       0  \n",
       "263080      1  \n",
       "254395      1  \n",
       "\n",
       "[5 rows x 31 columns]"
      ]
     },
     "execution_count": 17,
     "metadata": {},
     "output_type": "execute_result"
    }
   ],
   "source": [
    "#CREATE A NEW DATASET FROM 492 FRAUD AND VALID TRANASACTIONS \n",
    "#NEW VALID DATASET OF 984 TRANASCTIONS \n",
    "#LETS SHUFFLE THE DATA BEFORE WE CREATE THE SUBSAMPLE\n",
    "\n",
    "df  =  df.sample(frac=1)\n",
    "\n",
    "fraud_df =  df[df['Class'] ==1]\n",
    "valid_df = df.loc[np.random.choice(df.index, 492, replace=False)]\n",
    "\n",
    "normal_distributed_df = pd.concat([fraud_df, valid_df])\n",
    "\n",
    "# Shuffle dataframe rows\n",
    "new_df = normal_distributed_df.sample(frac=1, random_state=42)\n",
    "\n",
    "\n",
    "new_df = pd.DataFrame(new_df)\n",
    "new_df.head()"
   ]
  },
  {
   "cell_type": "code",
   "execution_count": 18,
   "metadata": {},
   "outputs": [
    {
     "data": {
      "text/plain": [
       "(984, 31)"
      ]
     },
     "execution_count": 18,
     "metadata": {},
     "output_type": "execute_result"
    }
   ],
   "source": [
    "#THE NEW DATASET WITH 50-50 TRANSACTIONS\n",
    "\n",
    "normal_distributed_df1 = pd.concat([fraud_df ,valid_df], axis=0)\n",
    "new_df = normal_distributed_df1.sample(frac=1, random_state=42)\n",
    "\n",
    "new_df.shape"
   ]
  },
  {
   "cell_type": "code",
   "execution_count": 19,
   "metadata": {},
   "outputs": [
    {
     "name": "stdout",
     "output_type": "stream",
     "text": [
      "Distribution of the Classes in the new dataset\n"
     ]
    },
    {
     "data": {
      "image/png": "[encoded data removed]",
      "text/plain": [
       "<Figure size 432x288 with 1 Axes>"
      ]
     },
     "metadata": {
      "needs_background": "light"
     },
     "output_type": "display_data"
    }
   ],
   "source": [
    "print('Distribution of the Classes in the new dataset')\n",
    "\n",
    "sns.countplot('Class', data=new_df)\n",
    "sns.color_palette(\"Set2\", 2)\n",
    "\n",
    "plt.title('Equally Distributed Classes',fontsize=13)\n",
    "plt.show()"
   ]
  },
  {
   "cell_type": "code",
   "execution_count": 20,
   "metadata": {},
   "outputs": [
    {
     "name": "stdout",
     "output_type": "stream",
     "text": [
      "Percentage of normal transactions:  0.4969512195121951\n",
      "Percentage of fraud transactions:  0.5030487804878049\n",
      "Total number of transactions in resampled data:  984\n"
     ]
    }
   ],
   "source": [
    "# Showing ratio\n",
    "#isopithana ta dedomena \n",
    "\n",
    "print(\"Percentage of normal transactions: \", (len(new_df[new_df['Class']==0])/len(new_df)))\n",
    "print(\"Percentage of fraud transactions: \", (len(new_df[new_df['Class']==1])/len(new_df)))\n",
    "print(\"Total number of transactions in resampled data: \", len(new_df))"
   ]
  },
  {
   "cell_type": "code",
   "execution_count": 21,
   "metadata": {},
   "outputs": [
    {
     "data": {
      "image/png": "[encoded data removed]",
      "text/plain": [
       "<Figure size 1440x720 with 2 Axes>"
      ]
     },
     "metadata": {
      "needs_background": "light"
     },
     "output_type": "display_data"
    }
   ],
   "source": [
    "corr = df.corr()\n",
    "fig, ax = plt.subplots(figsize=(20,10))\n",
    "sns.heatmap(corr, cmap='viridis', annot_kws={'size':20},linewidths= 0.05)\n",
    "ax.set_title(\"Old Correlation Matrix \\n (don't use for reference)\", fontsize=13)\n",
    "plt.show()"
   ]
  },
  {
   "cell_type": "code",
   "execution_count": 22,
   "metadata": {},
   "outputs": [
    {
     "data": {
      "image/png": "[encoded data removed]",
      "text/plain": [
       "<Figure size 1440x720 with 2 Axes>"
      ]
     },
     "metadata": {
      "needs_background": "light"
     },
     "output_type": "display_data"
    }
   ],
   "source": [
    "corr1 = new_df.corr()\n",
    "fig, ax = plt.subplots(figsize=(20,10))\n",
    "ax.set_title('SubSample Correlation Matrix \\n (use for reference)', fontsize=13)\n",
    "sns.heatmap(corr, cmap='viridis', annot_kws={'size':20}, linewidths= 0.05)\n",
    "plt.show()"
   ]
  },
  {
   "cell_type": "code",
   "execution_count": 23,
   "metadata": {},
   "outputs": [
    {
     "data": {
      "image/png": "[encoded data removed]",
      "text/plain": [
       "<Figure size 1800x720 with 5 Axes>"
      ]
     },
     "metadata": {
      "needs_background": "light"
     },
     "output_type": "display_data"
    }
   ],
   "source": [
    "#Find the positive correletaion which can be our outliers \n",
    "#Positive correlation: The higher the feature value, \n",
    "#The probability increases that it will be a fraudulent transaction.\n",
    "\n",
    "f, axes = plt.subplots(ncols=5, figsize=(25,10))\n",
    "\n",
    "sns.boxplot(x='Class' , y ='V3',  data = new_df, ax=axes[0])\n",
    "sns.boxplot(x='Class' , y ='V7',  data = new_df, ax=axes[1])\n",
    "sns.boxplot(x='Class' , y ='V14', data = new_df, ax=axes[2])\n",
    "sns.boxplot(x='Class' , y ='V17', data = new_df, ax=axes[3])\n",
    "sns.boxplot(x='Class' , y ='V20', data = new_df, ax=axes[4])\n",
    "\n",
    "\n",
    "plt.show()"
   ]
  },
  {
   "cell_type": "markdown",
   "metadata": {},
   "source": [
    "IQR METHOD "
   ]
  },
  {
   "cell_type": "code",
   "execution_count": 24,
   "metadata": {},
   "outputs": [
    {
     "name": "stdout",
     "output_type": "stream",
     "text": [
      "The 25th Quartile is : -0.1719121880766725\n",
      "The 75th quantile is : 0.8201319827491316\n",
      "\n",
      "\n",
      "The IQR is : 0.9920441708258041\n",
      "The v20 that we will remove is : 1.4880662562387061\n",
      "The min point is : -1.6599784443153787\n",
      "The max point is : 2.3081982389878375\n",
      "\n",
      "\n",
      "The number of the outliers is :  41\n",
      "The number of transactions after the outliers removes is : 934\n",
      "The new dataset after we remove the outliers of v20 is : (934, 31)\n"
     ]
    }
   ],
   "source": [
    "#REMOVE OF THE EXTREME OUTLIERS FROM TOP 2 POSITIVE CORRELATION \n",
    "#FIRST THE V20 \n",
    "\n",
    "v20_fraud = new_df['V20'].loc[new_df['Class'] == 1 ].values\n",
    "\n",
    "q25 = np.percentile(v20_fraud , 25)\n",
    "q75 = np.percentile(v20_fraud , 75)\n",
    "\n",
    "print('The 25th Quartile is :' , q25)\n",
    "print('The 75th quantile is :' , q75)\n",
    "print('\\n')\n",
    "\n",
    "v20_iqr = q75 - q25\n",
    "\n",
    "print('The IQR is :' , v20_iqr)\n",
    "\n",
    "v20_off = 1.5 * v20_iqr\n",
    "v20_lower = q25 - v20_off\n",
    "v20_upper = q75 + v20_off\n",
    "\n",
    "print('The v20 that we will remove is :' , v20_off)\n",
    "print('The min point is :' , v20_lower)\n",
    "print('The max point is :' , v20_upper)\n",
    "print('\\n')\n",
    "\n",
    "outliers_v20 = [i for i in v20_fraud if i < v20_lower or i > v20_upper ]\n",
    "new_df_v20 = new_df.drop(new_df[(new_df['V20'] > v20_upper) | (new_df['V20'] < v20_lower)].index)\n",
    "\n",
    "print('The number of the outliers is : ', len(outliers_v20))\n",
    "print('The number of transactions after the outliers removes is :' , len(new_df_v20))\n",
    "print('The new dataset after we remove the outliers of v20 is :' ,new_df_v20.shape)\n",
    "\n",
    "#984 - 41 = 931 , so our model is good"
   ]
  },
  {
   "cell_type": "code",
   "execution_count": 25,
   "metadata": {},
   "outputs": [
    {
     "data": {
      "text/plain": [
       "<matplotlib.axes._subplots.AxesSubplot at 0x25b87b6cb88>"
      ]
     },
     "execution_count": 25,
     "metadata": {},
     "output_type": "execute_result"
    },
    {
     "data": {
      "image/png": "[encoded data removed]",
      "text/plain": [
       "<Figure size 720x720 with 2 Axes>"
      ]
     },
     "metadata": {
      "needs_background": "light"
     },
     "output_type": "display_data"
    }
   ],
   "source": [
    "#We can compare our boxplots before and after we remove the outliers \n",
    "\n",
    "f,(ax1, ax2) = plt.subplots(1, 2, figsize=(10,10))\n",
    "\n",
    "sns.boxplot(x=\"Class\", y=\"V20\", data=new_df,ax=ax1)\n",
    "sns.boxplot(x=\"Class\", y=\"V20\", data=new_df_v20,ax=ax2)"
   ]
  },
  {
   "cell_type": "code",
   "execution_count": 26,
   "metadata": {},
   "outputs": [
    {
     "name": "stdout",
     "output_type": "stream",
     "text": [
      "The 25th Quartile is : -8.582162335962181\n",
      "The 75th quantile is :  -2.24744208591105\n",
      "\n",
      "\n",
      "The IQR is : 6.334720250051131\n",
      "\n",
      "\n",
      "The v3 tha we will remove is : 9.502080375076696\n",
      "The min point is : -18.084242711038875\n",
      "The max point is : 7.254638289165646\n",
      "\n",
      "\n",
      "The number of the outliers is :  53\n",
      "The number of transactions after the outliers removes is : 931\n",
      "The new dataset after we remove the outliers of v3 is : (931, 31)\n"
     ]
    }
   ],
   "source": [
    "#REMOVE OF THE EXTREME OUTLIERS FROM TOP 2 POSITIVE CORRELATION \n",
    "#FIRST THE V3\n",
    "\n",
    "v3_fraud = new_df['V3'].loc[new_df['Class'] == 1 ].values\n",
    "\n",
    "q25 = np.percentile(v3_fraud , 25)\n",
    "q75 = np.percentile(v3_fraud , 75)\n",
    "\n",
    "print('The 25th Quartile is :' , q25)\n",
    "print('The 75th quantile is : ' , q75)\n",
    "print('\\n')\n",
    "\n",
    "v3_iqr = q75 - q25\n",
    "\n",
    "print('The IQR is :' , v3_iqr)\n",
    "print('\\n')\n",
    "v3_off = 1.5 * v3_iqr\n",
    "v3_lower = q25 - v3_off\n",
    "v3_upper = q75 + v3_off\n",
    "\n",
    "print('The v3 tha we will remove is :' , v3_off)\n",
    "print('The min point is :' , v3_lower)\n",
    "print('The max point is :' , v3_upper)\n",
    "print('\\n')\n",
    "\n",
    "outliers_v3 = [i for i in v3_fraud if i < v3_lower or i > v3_upper ]\n",
    "new_df_v3 = new_df.drop(new_df[(new_df['V3'] > v3_upper) | (new_df['V3'] < v3_lower)].index)\n",
    "\n",
    "print('The number of the outliers is : ', len(outliers_v3))\n",
    "print('The number of transactions after the outliers removes is :' , len(new_df_v3))\n",
    "print('The new dataset after we remove the outliers of v3 is :' ,new_df_v3.shape)\n",
    "\n",
    "#984 - 53 = 931 , so our model is really good"
   ]
  },
  {
   "cell_type": "code",
   "execution_count": 27,
   "metadata": {},
   "outputs": [
    {
     "data": {
      "text/plain": [
       "<matplotlib.axes._subplots.AxesSubplot at 0x25b87fb6f88>"
      ]
     },
     "execution_count": 27,
     "metadata": {},
     "output_type": "execute_result"
    },
    {
     "data": {
      "image/png": "[encoded data removed]",
      "text/plain": [
       "<Figure size 720x720 with 2 Axes>"
      ]
     },
     "metadata": {
      "needs_background": "light"
     },
     "output_type": "display_data"
    }
   ],
   "source": [
    "#We can compare our boxplots before and after we remove the outliers \n",
    "\n",
    "f,(ax1, ax2) = plt.subplots(1, 2, figsize=(10,10))\n",
    "\n",
    "sns.boxplot(x=\"Class\", y=\"V3\", data=new_df,ax=ax1)\n",
    "sns.boxplot(x=\"Class\", y=\"V3\", data=new_df_v3,ax=ax2)"
   ]
  },
  {
   "cell_type": "code",
   "execution_count": 28,
   "metadata": {},
   "outputs": [
    {
     "data": {
      "image/png": "[encoded data removed]",
      "text/plain": [
       "<Figure size 1800x720 with 5 Axes>"
      ]
     },
     "metadata": {
      "needs_background": "light"
     },
     "output_type": "display_data"
    }
   ],
   "source": [
    "#Negative correlation: The lower the feature value, \n",
    "#the probability decreases that it will be a fraudulent transaction.\n",
    "\n",
    "f, axes = plt.subplots(ncols=5, figsize=(25,10))\n",
    "\n",
    "sns.boxplot(x='Class' , y ='V10', data = new_df, ax=axes[0])\n",
    "sns.boxplot(x='Class' , y ='V12', data = new_df, ax=axes[1])\n",
    "sns.boxplot(x='Class' , y ='V14', data = new_df, ax=axes[2])\n",
    "sns.boxplot(x='Class' , y ='V16', data = new_df, ax=axes[3])\n",
    "sns.boxplot(x='Class' , y ='V17', data = new_df, ax=axes[4])\n",
    "\n",
    "plt.show()"
   ]
  },
  {
   "cell_type": "code",
   "execution_count": 29,
   "metadata": {
    "scrolled": true
   },
   "outputs": [
    {
     "name": "stdout",
     "output_type": "stream",
     "text": [
      "The 25th Quartile is : -7.73977574532001\n",
      "The 75th quantile is : -2.5305192103741\n",
      "\n",
      "\n",
      "The IQR is : 5.20925653494591\n",
      "The v10 tha we will remove is : 7.8138848024188645\n",
      "The min point is : -15.553660547738875\n",
      "The max point is : 5.283365592044765\n",
      "\n",
      "\n",
      "The number of the outliers is :  19\n",
      "The number of transactions after the outliers removes is : 963\n",
      "The new dataset after we remove the outliers of v10 is : (963, 31)\n"
     ]
    }
   ],
   "source": [
    "#REMOVE OF THE EXTREME OUTLIERS FROM TOP 2 NEGATIVE CORRELATION \n",
    "#FIRST THE V10\n",
    "\n",
    "v10_fraud = new_df['V10'].loc[new_df['Class'] == 1 ].values\n",
    "\n",
    "q25 = np.percentile(v10_fraud , 25)\n",
    "q75 = np.percentile(v10_fraud , 75)\n",
    "\n",
    "print('The 25th Quartile is :' , q25)\n",
    "print('The 75th quantile is :' , q75)\n",
    "print('\\n')\n",
    "\n",
    "v10_iqr = q75 - q25\n",
    "\n",
    "print('The IQR is :' , v10_iqr)\n",
    "\n",
    "v10_off = 1.5* v10_iqr\n",
    "v10_lower = q25 - v10_off\n",
    "v10_upper = q75 + v10_off\n",
    "\n",
    "print('The v10 tha we will remove is :' , v10_off)\n",
    "print('The min point is :' , v10_lower)\n",
    "print('The max point is :' , v10_upper)\n",
    "print('\\n')\n",
    "\n",
    "outliers_v10 = [i for i in v10_fraud if i < v10_lower or i > v10_upper ]\n",
    "new_df_v10 = new_df.drop(new_df[(new_df['V10'] > v10_upper) | (new_df['V10'] < v10_lower)].index)\n",
    "\n",
    "print('The number of the outliers is : ', len(outliers_v10))\n",
    "print('The number of transactions after the outliers removes is :' , len(new_df_v10))\n",
    "print('The new dataset after we remove the outliers of v10 is :' ,new_df_v10.shape)"
   ]
  },
  {
   "cell_type": "code",
   "execution_count": 30,
   "metadata": {},
   "outputs": [
    {
     "data": {
      "text/plain": [
       "<matplotlib.axes._subplots.AxesSubplot at 0x25b8af88288>"
      ]
     },
     "execution_count": 30,
     "metadata": {},
     "output_type": "execute_result"
    },
    {
     "data": {
      "image/png": "[encoded data removed]",
      "text/plain": [
       "<Figure size 936x720 with 2 Axes>"
      ]
     },
     "metadata": {
      "needs_background": "light"
     },
     "output_type": "display_data"
    }
   ],
   "source": [
    "#We can compare our boxplots before and after we remove the outliers \n",
    "\n",
    "f,(ax1, ax2) = plt.subplots(1, 2, figsize=(13,10))\n",
    "\n",
    "sns.boxplot(x=\"Class\", y=\"V10\", data=new_df, ax = ax1 )\n",
    "sns.boxplot(x=\"Class\", y=\"V10\", data=new_df_v10, ax = ax2 )"
   ]
  },
  {
   "cell_type": "code",
   "execution_count": 31,
   "metadata": {
    "scrolled": true
   },
   "outputs": [
    {
     "name": "stdout",
     "output_type": "stream",
     "text": [
      "The 25th Quartile is : -9.72781933551127\n",
      "The 75th quantile is :  -4.25988083278724\n",
      "\n",
      "\n",
      "The IQR is : 5.467938502724031\n",
      "The v14 tha we will remove is : 8.201907754086045\n",
      "The min point is : -17.929727089597314\n",
      "The max point is : 3.9420269212988055\n",
      "\n",
      "\n",
      "\n",
      "\n",
      "The number of the outliers is :  4\n",
      "The number of transactions after the outliers removes is : 979\n",
      "The new dataset after we remove the outliers of v14 is : (979, 31)\n"
     ]
    }
   ],
   "source": [
    "#REMOVE OF THE EXTREME OUTLIERS FROM TOP 2 NEGATIVE CORRELATION \n",
    "#FIRST THE V10\n",
    "\n",
    "v14_fraud = new_df['V14'].loc[new_df['Class'] == 1 ].values\n",
    "\n",
    "q25 = np.percentile(v14_fraud , 25)\n",
    "q75 = np.percentile(v14_fraud , 75)\n",
    "\n",
    "print('The 25th Quartile is :' , q25)\n",
    "print('The 75th quantile is : ' , q75)\n",
    "print('\\n')\n",
    "\n",
    "v14_iqr = q75 - q25\n",
    "\n",
    "print('The IQR is :' , v14_iqr)\n",
    "\n",
    "v14_off = 1.5* v14_iqr\n",
    "v14_lower = q25 - v14_off\n",
    "v14_upper = q75 + v14_off\n",
    "\n",
    "print('The v14 tha we will remove is :' , v14_off)\n",
    "print('The min point is :' , v14_lower)\n",
    "print('The max point is :' , v14_upper)\n",
    "print('\\n')\n",
    "\n",
    "outliers_v14 = [i for i in v14_fraud if i < v14_lower or i > v14_upper ]\n",
    "new_df_v14 = new_df.drop(new_df[(new_df['V14'] > v14_upper) | (new_df['V14'] < v14_lower)].index)\n",
    "\n",
    "print('\\n')\n",
    "\n",
    "print('The number of the outliers is : ', len(outliers_v14))\n",
    "print('The number of transactions after the outliers removes is :' , len(new_df_v14))\n",
    "print('The new dataset after we remove the outliers of v14 is :' ,new_df_v14.shape)"
   ]
  },
  {
   "cell_type": "code",
   "execution_count": 32,
   "metadata": {},
   "outputs": [
    {
     "data": {
      "text/plain": [
       "<matplotlib.axes._subplots.AxesSubplot at 0x25b87aef648>"
      ]
     },
     "execution_count": 32,
     "metadata": {},
     "output_type": "execute_result"
    },
    {
     "data": {
      "image/png": "[encoded data removed]",
      "text/plain": [
       "<Figure size 720x720 with 2 Axes>"
      ]
     },
     "metadata": {
      "needs_background": "light"
     },
     "output_type": "display_data"
    }
   ],
   "source": [
    "#We can compare our boxplots before and after we remove the outliers \n",
    "\n",
    "f,(ax1, ax2) = plt.subplots(1, 2, figsize=(10,10))\n",
    "\n",
    "sns.boxplot(x=\"Class\", y=\"V14\", data=new_df,ax=ax1)\n",
    "sns.boxplot(x=\"Class\", y=\"V14\", data=new_df_v14,ax=ax2)"
   ]
  },
  {
   "cell_type": "code",
   "execution_count": 33,
   "metadata": {},
   "outputs": [],
   "source": [
    "X = df.drop(['Class'], axis=1)\n",
    "y = df['Class']"
   ]
  },
  {
   "cell_type": "code",
   "execution_count": 34,
   "metadata": {},
   "outputs": [],
   "source": [
    "#Spliting the dataset  \n",
    "\n",
    "from sklearn.model_selection import train_test_split\n",
    "\n",
    "X_train, X_test, y_train, y_test = train_test_split(X, y, test_size=0.2, random_state=42)"
   ]
  },
  {
   "cell_type": "code",
   "execution_count": 35,
   "metadata": {},
   "outputs": [],
   "source": [
    "#Importing Classifiers\n",
    "from sklearn.neighbors import LocalOutlierFactor\n",
    "\n",
    "from sklearn.metrics import (confusion_matrix, precision_recall_curve, classification_report, \n",
    "                            precision_score, recall_score, accuracy_score,f1_score,roc_auc_score)\n",
    "\n",
    "from sklearn.model_selection import cross_val_score"
   ]
  },
  {
   "cell_type": "code",
   "execution_count": 36,
   "metadata": {
    "scrolled": false
   },
   "outputs": [
    {
     "name": "stdout",
     "output_type": "stream",
     "text": [
      "712\n",
      "\n",
      "\n",
      "Model Accuracy: 1.0\n",
      "Model Precision: 0.39\n",
      "Model Recall: 0.32\n",
      "Model F1-Score: 0.35\n",
      "Model ROC: 0.66\n",
      "              precision    recall  f1-score   support\n",
      "\n",
      "           0       1.00      1.00      1.00    284207\n",
      "           1       0.39      0.32      0.35       600\n",
      "\n",
      "    accuracy                           1.00    284807\n",
      "   macro avg       0.69      0.66      0.67    284807\n",
      "weighted avg       1.00      1.00      1.00    284807\n",
      "\n",
      "\n",
      "\n"
     ]
    },
    {
     "data": {
      "image/png": "[encoded data removed]",
      "text/plain": [
       "<Figure size 432x432 with 2 Axes>"
      ]
     },
     "metadata": {
      "needs_background": "light"
     },
     "output_type": "display_data"
    }
   ],
   "source": [
    "#Isolation Forest Tree\n",
    "\n",
    "from sklearn.ensemble import IsolationForest\n",
    "\n",
    "isf = IsolationForest(max_samples = len(X)).fit(X) # Fitting the model.\n",
    "y_prediction = isf.predict(X) # Prediction using trained model.\n",
    "\n",
    "#the isolation forest use (-1,1) in order to predict the result\n",
    "#but we have valid = 0 and fraud = 1 , so we must make some changes  before we run it \n",
    "\n",
    "y_prediction[y_prediction == 1] = 0 # Valid transactions are labelled as 0.\n",
    "y_prediction[y_prediction == -1] = 1 # Fraudulent transactions are labelled as 1.\n",
    "\n",
    "errors = (y_prediction != y).sum() # Total number of errors is calculated.\n",
    "\n",
    "print(errors)\n",
    "\n",
    "print('\\n')\n",
    "print(\"Model Accuracy:\", round(accuracy_score(y_prediction , y),2))\n",
    "print(\"Model Precision:\", round(precision_score(y_prediction , y),2))\n",
    "print(\"Model Recall:\", round(recall_score(y_prediction , y),2))\n",
    "print(\"Model F1-Score:\", round(f1_score(y_prediction , y),2))\n",
    "print(\"Model ROC:\", round(roc_auc_score(y_prediction , y),2))\n",
    "\n",
    "\n",
    "print(classification_report(y_prediction , y))\n",
    "\n",
    "\n",
    "conf_matrix=confusion_matrix(y_prediction,y )\n",
    "print('\\n')\n",
    "labels= ['Valid', 'Fraud'] \n",
    "plt.figure(figsize=(6, 6)) \n",
    "sns.heatmap(pd.DataFrame(conf_matrix), xticklabels= labels, yticklabels= labels, \n",
    "            linewidths= 0.05 ,annot=True, fmt=\"d\" , cmap='BuPu')\n",
    "\n",
    "plt.title(\"Isolation Forest Classifier - Confusion Matrix\") \n",
    "plt.ylabel('True Value') \n",
    "plt.xlabel('Predicted Value') \n",
    "plt.show()"
   ]
  },
  {
   "cell_type": "code",
   "execution_count": 37,
   "metadata": {},
   "outputs": [
    {
     "name": "stdout",
     "output_type": "stream",
     "text": [
      "Model Accuracy: 1.0\n",
      "Model Precision: 0.94\n",
      "Model Recall: 0.8\n",
      "Model F1-Score: 0.87\n",
      "Model ROC: 0.9\n",
      "              precision    recall  f1-score   support\n",
      "\n",
      "       Valid       1.00      1.00      1.00     56856\n",
      "       Fraud       0.94      0.80      0.87       106\n",
      "\n",
      "    accuracy                           1.00     56962\n",
      "   macro avg       0.97      0.90      0.93     56962\n",
      "weighted avg       1.00      1.00      1.00     56962\n",
      "\n"
     ]
    },
    {
     "data": {
      "image/png": "[encoded data removed]",
      "text/plain": [
       "<Figure size 432x432 with 2 Axes>"
      ]
     },
     "metadata": {
      "needs_background": "light"
     },
     "output_type": "display_data"
    }
   ],
   "source": [
    "#RANDOM_FOREST_CLASSIFIER \n",
    "from sklearn.ensemble import RandomForestClassifier\n",
    "\n",
    "\n",
    "rfc=RandomForestClassifier(random_state = 42) \n",
    "rfc.fit(X_train, y_train) \n",
    "Y_pred=rfc.predict(X_test) \n",
    "\n",
    "\n",
    "print(\"Model Accuracy:\", round(accuracy_score(y_test, Y_pred),2))\n",
    "print(\"Model Precision:\", round(precision_score(y_test, Y_pred),2))\n",
    "print(\"Model Recall:\", round(recall_score(y_test, Y_pred),2))\n",
    "print(\"Model F1-Score:\", round(f1_score(y_test, Y_pred),2))\n",
    "print(\"Model ROC:\", round(roc_auc_score(y_test, Y_pred),2))\n",
    "\n",
    "conf_matrix=confusion_matrix(y_test, Y_pred) \n",
    "labels= ['Valid', 'Fraud'] \n",
    "plt.figure(figsize=(6, 6)) \n",
    "\n",
    "sns.heatmap(pd.DataFrame(conf_matrix), xticklabels= labels, yticklabels= labels, \n",
    "            linewidths= 0.05 ,annot=True, fmt=\"d\" , cmap='BuPu')\n",
    "\n",
    "print(classification_report(y_test, Y_pred, target_names=labels))\n",
    "\n",
    "\n",
    "plt.title(\"Random Forest Classifier - Confusion Matrix\") \n",
    "plt.ylabel('True Value') \n",
    "plt.xlabel('Predicted Value') \n",
    "plt.show()"
   ]
  },
  {
   "cell_type": "code",
   "execution_count": 38,
   "metadata": {},
   "outputs": [
    {
     "name": "stdout",
     "output_type": "stream",
     "text": [
      "Model Accuracy: 1.0\n",
      "Model Precision: 0.87\n",
      "Model Recall: 0.7\n",
      "Model F1-Score: 0.77\n",
      "              precision    recall  f1-score   support\n",
      "\n",
      "       Valid       1.00      1.00      1.00     56856\n",
      "       Fraud       0.87      0.70      0.77       106\n",
      "\n",
      "    accuracy                           1.00     56962\n",
      "   macro avg       0.94      0.85      0.89     56962\n",
      "weighted avg       1.00      1.00      1.00     56962\n",
      "\n"
     ]
    },
    {
     "data": {
      "image/png": "[encoded data removed]",
      "text/plain": [
       "<Figure size 432x432 with 2 Axes>"
      ]
     },
     "metadata": {
      "needs_background": "light"
     },
     "output_type": "display_data"
    }
   ],
   "source": [
    "#LOGISTIC_REGRESSION \n",
    "from sklearn.linear_model import LogisticRegression\n",
    "\n",
    "logreg = LogisticRegression(random_state = 42)\n",
    "logreg.fit(X_train, y_train)\n",
    "Y_pred1 = logreg.predict(X_test)\n",
    "\n",
    "print(\"Model Accuracy:\", round(accuracy_score(y_test, Y_pred1),2))\n",
    "print(\"Model Precision:\", round(precision_score(y_test, Y_pred1),2))\n",
    "print(\"Model Recall:\", round(recall_score(y_test, Y_pred1),2))\n",
    "print(\"Model F1-Score:\", round(f1_score(y_test, Y_pred1),2))\n",
    "\n",
    "\n",
    "conf_matrix1 = confusion_matrix(y_test, Y_pred1)\n",
    "plt.figure(figsize=(6, 6)) \n",
    "labels= ['Valid', 'Fraud'] \n",
    "\n",
    "sns.heatmap(pd.DataFrame(conf_matrix1),annot=True, fmt='d',\n",
    "            linewidths= 0.05 ,cmap='BuPu',xticklabels= labels, yticklabels= labels)\n",
    "\n",
    "print(classification_report(y_test, Y_pred1, target_names=labels))\n",
    "\n",
    "plt.title('Logistic Regression - Confusion Matrix')\n",
    "plt.ylabel('True Value')\n",
    "plt.xlabel('Predicted Value')\n",
    "plt.show()"
   ]
  },
  {
   "cell_type": "code",
   "execution_count": 39,
   "metadata": {
    "scrolled": false
   },
   "outputs": [
    {
     "name": "stdout",
     "output_type": "stream",
     "text": [
      "Model Accuracy: 1.0\n",
      "Model Precision: 0.74\n",
      "Model Recall: 0.76\n",
      "Model F1-Score: 0.75\n",
      "              precision    recall  f1-score   support\n",
      "\n",
      "       Valid       1.00      1.00      1.00     56856\n",
      "       Fraud       0.74      0.76      0.75       106\n",
      "\n",
      "    accuracy                           1.00     56962\n",
      "   macro avg       0.87      0.88      0.87     56962\n",
      "weighted avg       1.00      1.00      1.00     56962\n",
      "\n"
     ]
    },
    {
     "data": {
      "image/png": "[encoded data removed]",
      "text/plain": [
       "<Figure size 432x432 with 2 Axes>"
      ]
     },
     "metadata": {
      "needs_background": "light"
     },
     "output_type": "display_data"
    }
   ],
   "source": [
    "#Decission Tree Classifier\n",
    "\n",
    "from sklearn.tree import DecisionTreeClassifier\n",
    "\n",
    "dtc = DecisionTreeClassifier(random_state = 42)\n",
    "dtc.fit(X_train,y_train)\n",
    "Y_pred2 = dtc.predict(X_test)\n",
    "conf_matrix2 = confusion_matrix(y_test , Y_pred2)\n",
    "\n",
    "print(\"Model Accuracy:\", round(accuracy_score(y_test, Y_pred2),2))\n",
    "print(\"Model Precision:\", round(precision_score(y_test, Y_pred2),2))\n",
    "print(\"Model Recall:\", round(recall_score(y_test, Y_pred2),2))\n",
    "print(\"Model F1-Score:\", round(f1_score(y_test, Y_pred2),2))\n",
    "\n",
    "conf_matrix2 = confusion_matrix(y_test, Y_pred2)\n",
    "plt.figure(figsize=(6, 6))\n",
    "labels= ['Valid', 'Fraud'] \n",
    "\n",
    "sns.heatmap(pd.DataFrame(conf_matrix2),annot=True, fmt='d',linewidths= 0.05 ,cmap='BuPu',\n",
    "            xticklabels= labels, yticklabels= labels)\n",
    "\n",
    "print(classification_report(y_test,Y_pred2,target_names=labels))\n",
    "\n",
    "plt.title('Decission Tree Classifier - Confusion Matrix')\n",
    "plt.ylabel('True Value') \n",
    "plt.xlabel('Predicted Value') \n",
    "plt.show()"
   ]
  },
  {
   "cell_type": "code",
   "execution_count": 40,
   "metadata": {},
   "outputs": [
    {
     "name": "stdout",
     "output_type": "stream",
     "text": [
      "Model Accuracy: 1.0\n",
      "Model Precision: 0.8\n",
      "Model Recall: 0.66\n",
      "Model F1-Score: 0.722\n",
      "              precision    recall  f1-score   support\n",
      "\n",
      "       Valid       1.00      1.00      1.00     56856\n",
      "       Fraud       0.74      0.76      0.75       106\n",
      "\n",
      "    accuracy                           1.00     56962\n",
      "   macro avg       0.87      0.88      0.87     56962\n",
      "weighted avg       1.00      1.00      1.00     56962\n",
      "\n"
     ]
    },
    {
     "data": {
      "image/png": "[encoded data removed]",
      "text/plain": [
       "<Figure size 432x432 with 2 Axes>"
      ]
     },
     "metadata": {
      "needs_background": "light"
     },
     "output_type": "display_data"
    }
   ],
   "source": [
    "#Naive Bayes Classifier\n",
    "\n",
    "from sklearn.naive_bayes import BernoulliNB\n",
    "\n",
    "NB = BernoulliNB()\n",
    "NB.fit(X_train,y_train)\n",
    "Y_pred3 = NB.predict(X_test)\n",
    "conf_matrix_nb = confusion_matrix(y_test , Y_pred3)\n",
    "\n",
    "print(\"Model Accuracy:\", round(accuracy_score(y_test, Y_pred3),2))\n",
    "print(\"Model Precision:\", round(precision_score(y_test, Y_pred3),2))\n",
    "print(\"Model Recall:\", round(recall_score(y_test, Y_pred3),2))\n",
    "print(\"Model F1-Score:\", round(f1_score(y_test, Y_pred3),3))\n",
    "\n",
    "conf_matrix2 = confusion_matrix(y_test, Y_pred3)\n",
    "plt.figure(figsize=(6, 6))\n",
    "labels= ['Valid', 'Fraud'] \n",
    "\n",
    "sns.heatmap(pd.DataFrame(conf_matrix2),annot=True, fmt='d',linewidths= 0.05 ,cmap='BuPu',\n",
    "            xticklabels= labels, yticklabels= labels)\n",
    "\n",
    "print(classification_report(y_test,Y_pred2,target_names=labels))\n",
    "\n",
    "plt.title('Naive Bayes Classifier - Confusion Matrix')\n",
    "plt.ylabel('True Value') \n",
    "plt.xlabel('Predicted Value') \n",
    "plt.show()"
   ]
  },
  {
   "cell_type": "code",
   "execution_count": 41,
   "metadata": {},
   "outputs": [
    {
     "name": "stdout",
     "output_type": "stream",
     "text": [
      "Model Accuracy: 1.0\n",
      "Model Precision: 0.94\n",
      "Model Recall: 0.76\n",
      "Model F1-Score: 0.84\n",
      "              precision    recall  f1-score   support\n",
      "\n",
      "       Valid       1.00      1.00      1.00     56856\n",
      "       Fraud       0.74      0.76      0.75       106\n",
      "\n",
      "    accuracy                           1.00     56962\n",
      "   macro avg       0.87      0.88      0.87     56962\n",
      "weighted avg       1.00      1.00      1.00     56962\n",
      "\n"
     ]
    },
    {
     "data": {
      "image/png": "[encoded data removed]",
      "text/plain": [
       "<Figure size 432x432 with 2 Axes>"
      ]
     },
     "metadata": {
      "needs_background": "light"
     },
     "output_type": "display_data"
    }
   ],
   "source": [
    "#SVM  Classifier\n",
    "\n",
    "from sklearn.svm import SVC\n",
    "\n",
    "svc_clf = SVC()\n",
    "svc_clf.fit(X_train,y_train)\n",
    "\n",
    "Y_pred4 = svc_clf.predict(X_test)\n",
    "\n",
    "conf_matrix_svm = confusion_matrix(y_test,Y_pred4)\n",
    "\n",
    "print(\"Model Accuracy:\", round(accuracy_score(y_test, Y_pred4),2))\n",
    "print(\"Model Precision:\", round(precision_score(y_test, Y_pred4),2))\n",
    "print(\"Model Recall:\", round(recall_score(y_test,Y_pred4),2))\n",
    "print(\"Model F1-Score:\", round(f1_score(y_test, Y_pred4),2))\n",
    "\n",
    "plt.figure(figsize=(6, 6))\n",
    "labels= ['Valid', 'Fraud'] \n",
    "\n",
    "sns.heatmap(pd.DataFrame(conf_matrix2),annot=True, fmt='d',linewidths= 0.05 ,cmap='BuPu',\n",
    "            xticklabels= labels, yticklabels= labels)\n",
    "\n",
    "print(classification_report(y_test,Y_pred2,target_names=labels))\n",
    "\n",
    "plt.title('Naive Bayes Classifier - Confusion Matrix')\n",
    "plt.ylabel('True Value') \n",
    "plt.xlabel('Predicted Value') \n",
    "plt.show()"
   ]
  },
  {
   "cell_type": "code",
   "execution_count": null,
   "metadata": {},
   "outputs": [],
   "source": [
    "from sklearn.model_selection import cross_val_score\n",
    "\n",
    "classifier = { 'rfc' :RandomForestClassifier(),\n",
    "               'logreg' : LogisticRegression(),\n",
    "               'dtc' : DecisionTreeClassifier(),\n",
    "               'NB' : BernoulliNB(),\n",
    "               'svc_clf' : SVC() }\n",
    "\n",
    "                \n",
    "for i , classifier in classifier.items():\n",
    "    classifier.fit(X_train,y_train)\n",
    "    training_score = cross_val_score(classifier, X_train, y_train, cv=5)\n",
    "\n",
    "    \n",
    "print(classifier.__class__.name__, 'Hasa training score of' , round(training_score.mean(),2)*100 , \"%accuracy score\")"
   ]
  },
  {
   "cell_type": "code",
   "execution_count": null,
   "metadata": {},
   "outputs": [],
   "source": []
  }
 ],
 "metadata": {
  "kernelspec": {
   "display_name": "Python 3",
   "language": "python",
   "name": "python3"
  },
  "language_info": {
   "codemirror_mode": {
    "name": "ipython",
    "version": 3
   },
   "file_extension": ".py",
   "mimetype": "text/x-python",
   "name": "python",
   "nbconvert_exporter": "python",
   "pygments_lexer": "ipython3",
   "version": "3.7.6"
  },
  "widgets": {
   "application/vnd.jupyter.widget-state+json": {
    "state": {},
    "version_major": 2,
    "version_minor": 0
   }
  }
 },
 "nbformat": 4,
 "nbformat_minor": 4
}
